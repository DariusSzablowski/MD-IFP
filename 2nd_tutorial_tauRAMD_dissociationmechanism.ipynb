{
 "cells": [
  {
   "cell_type": "markdown",
   "metadata": {
    "id": "3Jhjh5OcWpyw"
   },
   "source": [
    "# **Notebook for exploring ligand dissociation trajectories of GPCR complexes using pre-computed Protein-Ligand Interaction Fingerprints (IFPs)**\n",
    "\n",
    "**Aim**: In this tutorial, you will be explore the dissociation pathways of the three systems under investigation starting from pre-computed RAMD trajecotories ([Kokh et al. 2021](https://pubs.acs.org/doi/10.1021/acs.jctc.1c00641)).\n",
    "\n",
    "**Version**: 1.0 (02.06.2021), 1.1 (06.03.2022) Copyright (c) 2020, Released under the EUPL Licence, v1.2 or any higher version\n",
    "\n",
    "**Authors/Contributors**: 1.0: Daria Kokh, Rebecca Wade (HITS, Heidelberg, Germany); 1.1 Update: Giulia D'Arrigo, Rebecca Wade (HITS, Heidelberg, Germany)\n",
    "\n",
    "**Contact**: mcmsoft@h-its.org\n",
    "\n",
    "**Note**: This notebook has graphical output using nglview. If you use the \"RunAll\" function of the notebook, this graphical output might not appear on your screen. The cell defined to show the output must be visible in the browser during execution."
   ]
  },
  {
   "cell_type": "markdown",
   "metadata": {
    "id": "fsBkgg_2XNNv"
   },
   "source": [
    "**Setting up your environment**\n",
    "\n",
    "First set up your environment and the needed packages. This might take a while."
   ]
  },
  {
   "cell_type": "code",
   "execution_count": 1,
   "metadata": {
    "id": "OZKPRNOzwxvl"
   },
   "outputs": [
    {
     "name": "stdout",
     "output_type": "stream",
     "text": [
      "Requirement already satisfied: rdkit-pypi in /exports/scratch/ana3/envs/md/lib/python3.8/site-packages (2022.3.2.1)\n",
      "Requirement already satisfied: numpy in /exports/scratch/ana3/envs/md/lib/python3.8/site-packages (from rdkit-pypi) (1.22.3)\n",
      "Requirement already satisfied: Pillow in /exports/scratch/ana3/envs/md/lib/python3.8/site-packages (from rdkit-pypi) (9.1.0)\n",
      "Requirement already satisfied: MDAnalysis==1.1.1 in /exports/scratch/ana3/envs/md/lib/python3.8/site-packages (1.1.1)\n",
      "Requirement already satisfied: tqdm>=4.43.0 in /exports/scratch/ana3/envs/md/lib/python3.8/site-packages (from MDAnalysis==1.1.1) (4.64.0)\n",
      "Requirement already satisfied: gsd>=1.4.0 in /exports/scratch/ana3/envs/md/lib/python3.8/site-packages (from MDAnalysis==1.1.1) (2.5.2)\n",
      "Requirement already satisfied: numpy>=1.13.3 in /exports/scratch/ana3/envs/md/lib/python3.8/site-packages (from MDAnalysis==1.1.1) (1.22.3)\n",
      "Requirement already satisfied: funcsigs in /exports/scratch/ana3/envs/md/lib/python3.8/site-packages (from MDAnalysis==1.1.1) (1.0.2)\n",
      "Requirement already satisfied: networkx>=1.0 in /exports/scratch/ana3/envs/md/lib/python3.8/site-packages (from MDAnalysis==1.1.1) (2.7.1)\n",
      "Requirement already satisfied: mmtf-python>=1.0.0 in /exports/scratch/ana3/envs/md/lib/python3.8/site-packages (from MDAnalysis==1.1.1) (1.1.2)\n",
      "Requirement already satisfied: scipy>=1.0.0 in /exports/scratch/ana3/envs/md/lib/python3.8/site-packages (from MDAnalysis==1.1.1) (1.8.0)\n",
      "Requirement already satisfied: matplotlib<3.4,>=1.5.1 in /exports/scratch/ana3/envs/md/lib/python3.8/site-packages (from MDAnalysis==1.1.1) (3.3.4)\n",
      "Requirement already satisfied: six>=1.4.0 in /exports/scratch/ana3/envs/md/lib/python3.8/site-packages (from MDAnalysis==1.1.1) (1.16.0)\n",
      "Requirement already satisfied: mock in /exports/scratch/ana3/envs/md/lib/python3.8/site-packages (from MDAnalysis==1.1.1) (4.0.3)\n",
      "Requirement already satisfied: joblib>=0.12 in /home/richtesn/.local/lib/python3.8/site-packages (from MDAnalysis==1.1.1) (1.0.1)\n",
      "Requirement already satisfied: GridDataFormats>=0.4.0 in /home/richtesn/.local/lib/python3.8/site-packages (from MDAnalysis==1.1.1) (0.7.0)\n",
      "Requirement already satisfied: biopython>=1.71 in /exports/scratch/ana3/envs/md/lib/python3.8/site-packages (from MDAnalysis==1.1.1) (1.79)\n",
      "Requirement already satisfied: mrcfile in /home/richtesn/.local/lib/python3.8/site-packages (from GridDataFormats>=0.4.0->MDAnalysis==1.1.1) (1.3.0)\n",
      "Requirement already satisfied: pillow>=6.2.0 in /exports/scratch/ana3/envs/md/lib/python3.8/site-packages (from matplotlib<3.4,>=1.5.1->MDAnalysis==1.1.1) (9.1.0)\n",
      "Requirement already satisfied: python-dateutil>=2.1 in /exports/scratch/ana3/envs/md/lib/python3.8/site-packages (from matplotlib<3.4,>=1.5.1->MDAnalysis==1.1.1) (2.8.2)\n",
      "Requirement already satisfied: cycler>=0.10 in /exports/scratch/ana3/envs/md/lib/python3.8/site-packages (from matplotlib<3.4,>=1.5.1->MDAnalysis==1.1.1) (0.11.0)\n",
      "Requirement already satisfied: pyparsing!=2.0.4,!=2.1.2,!=2.1.6,>=2.0.3 in /exports/scratch/ana3/envs/md/lib/python3.8/site-packages (from matplotlib<3.4,>=1.5.1->MDAnalysis==1.1.1) (3.0.8)\n",
      "Requirement already satisfied: kiwisolver>=1.0.1 in /exports/scratch/ana3/envs/md/lib/python3.8/site-packages (from matplotlib<3.4,>=1.5.1->MDAnalysis==1.1.1) (1.4.2)\n",
      "Requirement already satisfied: msgpack>=0.5.6 in /exports/scratch/ana3/envs/md/lib/python3.8/site-packages (from mmtf-python>=1.0.0->MDAnalysis==1.1.1) (1.0.3)\n"
     ]
    }
   ],
   "source": [
    "!pip install rdkit-pypi\n",
    "!pip install MDAnalysis==1.1.1"
   ]
  },
  {
   "cell_type": "code",
   "execution_count": 2,
   "metadata": {
    "id": "tXvAIGVqVj4x"
   },
   "outputs": [],
   "source": [
    "#Import python packages needed for the notebook\n",
    "import glob, os\n",
    "import sys\n",
    "import numpy as np\n",
    "import pandas as pd\n",
    "from pandas import ExcelFile \n",
    "\n",
    "from matplotlib import *\n",
    "from matplotlib import cm\n",
    "import matplotlib.ticker\n",
    "from matplotlib import gridspec\n",
    "import  pylab as plt\n",
    "import seaborn as sns\n",
    "\n",
    "from scipy import stats\n",
    "from scipy.stats import norm\n",
    "\n",
    "from sklearn import linear_model\n",
    "from sklearn import preprocessing\n",
    "from sklearn.cluster import KMeans\n",
    "from scipy.cluster.hierarchy import dendrogram, linkage\n",
    "from scipy.cluster import hierarchy as clust\n",
    "from scipy.spatial.distance import pdist\n",
    "\n",
    "import hashlib\n",
    "from sklearn.datasets import make_blobs\n",
    "from sklearn.metrics import pairwise_distances\n",
    "from sklearn.cluster import KMeans\n",
    "try:\n",
    "    JUPYTER_ROOT_DIRECTORY\n",
    "except NameError: \n",
    "    JUPYTER_ROOT_DIRECTORY = os.getcwd()"
   ]
  },
  {
   "cell_type": "markdown",
   "metadata": {
    "id": "e--Dz1hRXfbX"
   },
   "source": [
    "**Setting up local directory**\n",
    "\n",
    "After creating your working directory, you will see it shown on the left panel by clicking on the 'File' icon."
   ]
  },
  {
   "cell_type": "code",
   "execution_count": 4,
   "metadata": {
    "colab": {
     "base_uri": "https://localhost:8080/"
    },
    "id": "ckB7ZwgbVlup",
    "outputId": "c9f62d02-799f-4103-cead-bf4e96520c05"
   },
   "outputs": [
    {
     "name": "stdout",
     "output_type": "stream",
     "text": [
      "Working directory for current use case: /exports/scratch/git/MD-IFP/content/work/tauRAMD-egressroutes.1\n"
     ]
    }
   ],
   "source": [
    "# Create a local directory\n",
    "try:\n",
    "    homeDir = JUPYTER_ROOT_DIRECTORY+\"/content\"\n",
    "except:\n",
    "    print(\"Error in environment\")\n",
    "\n",
    "else:\n",
    "    workDir = os.path.join(homeDir, 'work')\n",
    "    if not os.path.isdir(workDir):\n",
    "        try:\n",
    "            os.makedirs(workDir)\n",
    "        except:\n",
    "            print(\"unable to make working directory: \".workdir)\n",
    "    \n",
    "    # Make a new directory to run the use case in. \n",
    "    # If directory already exists, add a number to make a unique name\n",
    "    baseDir = 'tauRAMD-egressroutes'\n",
    "    dirIter = 0\n",
    "    useCaseDir = os.path.join(workDir, baseDir)\n",
    "    pdbdir=os.path.join(useCaseDir,'workshop2022/DATA/PDB')\n",
    "    \n",
    "    if os.path.exists(useCaseDir):\n",
    "        while os.path.exists(useCaseDir):\n",
    "            dirIter += 1\n",
    "            useCaseDir = os.path.join(workDir, baseDir + '.' + str(dirIter))            \n",
    "    \n",
    "    try:\n",
    "        os.makedirs(useCaseDir)\n",
    "        os.chdir(useCaseDir)\n",
    "    except:\n",
    "        print(\"Failed to make use case working directory\")\n",
    "    else:\n",
    "        print(\"Working directory for current use case: %s\" % useCaseDir)"
   ]
  },
  {
   "cell_type": "markdown",
   "metadata": {
    "id": "kVBFPonAXi3I"
   },
   "source": [
    "**Download input files**\n",
    "\n",
    "Now you will download the files necessary for the analysis of dissociation trajectories (workshop22.zip)."
   ]
  },
  {
   "cell_type": "code",
   "execution_count": 5,
   "metadata": {
    "id": "PzZ7LtorVpu5"
   },
   "outputs": [
    {
     "name": "stdout",
     "output_type": "stream",
     "text": [
      "--2022-05-13 12:25:25--  https://mcm.h-its.org/wiki/lib/exe/fetch.php?media=googlecolab:workshop2022_2.zip\n",
      "Resolving mcm.h-its.org (mcm.h-its.org)... 193.197.73.80\n",
      "Connecting to mcm.h-its.org (mcm.h-its.org)|193.197.73.80|:443... connected.\n",
      "HTTP request sent, awaiting response... 200 OK\n",
      "Length: 43047474 (41M) [application/zip]\n",
      "Saving to: ‘workshop2022.zip’\n",
      "\n",
      "workshop2022.zip    100%[===================>]  41.05M   111MB/s    in 0.4s    \n",
      "\n",
      "2022-05-13 12:25:25 (111 MB/s) - ‘workshop2022.zip’ saved [43047474/43047474]\n",
      "\n",
      "Archive:  workshop2022.zip\n",
      "   creating: workshop2022/\n",
      "   creating: workshop2022/DATA/\n",
      "   creating: workshop2022/DATA/GPCR-09-2020/\n",
      "  inflating: workshop2022/DATA/GPCR-09-2020/b2AR-unwtapped-WB-SL-700-RAMD_31.dat  \n",
      "  inflating: workshop2022/DATA/GPCR-09-2020/ACh-CHL-lipid14-fixed-cleanBS-unwtapped-WB-SL-700-RAMD_3.pkl  \n",
      "  inflating: workshop2022/DATA/GPCR-09-2020/IXO-ALO-CHL-lipid14-fixed-cleanBS-unwtapped-WB-FA-700-RAMD_0.dat  \n",
      "  inflating: workshop2022/DATA/GPCR-09-2020/IXO-ALO-CHL-lipid14-fixed-cleanBS-unwtapped-WB-FA-700-RAMD_4.dat  \n",
      "  inflating: workshop2022/DATA/GPCR-09-2020/ACh-CHL-lipid14-fixed-cleanBS-unwtapped-WB-FA-700-RAMD_4.dat  \n",
      "  inflating: workshop2022/DATA/GPCR-09-2020/IXO-CHL-lipid14-fixed-cleanBS-unwtapped-WB-SL-700-RAMD_3.pkl  \n",
      "  inflating: workshop2022/DATA/GPCR-09-2020/b2AR-unwtapped-WB-SL-700-RAMD_5-.dat  \n",
      "  inflating: workshop2022/DATA/GPCR-09-2020/IXO-ALO-CHL-lipid14-fixed-cleanBS-unwtapped-WB-EX-700-RAMD_4.dat  \n",
      "  inflating: workshop2022/DATA/GPCR-09-2020/ACh-CHL-lipid14-fixed-cleanBS-unwtapped-WB-SU-700-RAMD_5.dat  \n",
      "  inflating: workshop2022/DATA/GPCR-09-2020/ACh-CHL-lipid14-fixed-cleanBS-unwtapped-WB-EX-700-RAMD_0.pkl  \n",
      "  inflating: workshop2022/DATA/GPCR-09-2020/ACh-CHL-lipid14-fixed-cleanBS-unwtapped-WB-EX-600-RAMD_2.pkl  \n",
      "  inflating: workshop2022/DATA/GPCR-09-2020/IXO-CHL-lipid14-fixed-cleanBS-unwtapped-WB-EX-700-RAMD_3.pkl  \n",
      "  inflating: workshop2022/DATA/GPCR-09-2020/ACh-CHL-lipid14-fixed-cleanBS-unwtapped-WB-EX-700-RAMD_4.pkl  \n",
      "  inflating: workshop2022/DATA/GPCR-09-2020/IXO-ALO-CHL-lipid14-fixed-cleanBS-unwtapped-WB-FA-700-RAMD_3.dat  \n",
      "  inflating: workshop2022/DATA/GPCR-09-2020/b2AR-unwtapped-WB-SL-700-RAMD_41.pkl  \n",
      "  inflating: workshop2022/DATA/GPCR-09-2020/b2AR-unwtapped-WB-EX-700-RAMD_04.dat  \n",
      "  inflating: workshop2022/DATA/GPCR-09-2020/ACh-CHL-lipid14-fixed-cleanBS-unwtapped-WB-EX-600-RAMD_1.dat  \n",
      "  inflating: workshop2022/DATA/GPCR-09-2020/ACh-CHL-lipid14-fixed-cleanBS-unwtapped-WB-EX-600-RAMD_4.pkl  \n",
      "  inflating: workshop2022/DATA/GPCR-09-2020/b2AR-unwtapped-WB-EX-700-RAMD_4GPU0-.dat  \n",
      "  inflating: workshop2022/DATA/GPCR-09-2020/IXO-ALO-CHL-lipid14-fixed-cleanBS-unwtapped-WB-SL-700-RAMD_1.dat  \n",
      "  inflating: workshop2022/DATA/GPCR-09-2020/ACh-CHL-lipid14-fixed-cleanBS-unwtapped-WB-SL-600-RAMD_4.pkl  \n",
      "  inflating: workshop2022/DATA/GPCR-09-2020/b2AR-unwtapped-WB-EX-700-RAMD_05.pkl  \n",
      "  inflating: workshop2022/DATA/GPCR-09-2020/IXO-ALO-CHL-lipid14-fixed-cleanBS-unwtapped-WB-EX-700-RAMD_7.pkl  \n",
      "  inflating: workshop2022/DATA/GPCR-09-2020/b2AR-unwtapped-WB-SL-700-RAMD_1-.pkl  \n",
      "  inflating: workshop2022/DATA/GPCR-09-2020/IXO-CHL-lipid14-fixed-cleanBS-unwtapped-WB-SL-700-RAMD_1.pkl  \n",
      "  inflating: workshop2022/DATA/GPCR-09-2020/IXO-CHL-lipid14-fixed-cleanBS-unwtapped-WB-EX-700-RAMD_2.pkl  \n",
      "  inflating: workshop2022/DATA/GPCR-09-2020/IXO-ALO-CHL-lipid14-fixed-cleanBS-unwtapped-WB-EX-700-RAMD_5.dat  \n",
      " extracting: workshop2022/DATA/GPCR-09-2020/IXO-CHL-lipid14-fixed-cleanBS-unwtapped-WB-SL-700-RAMD_5-.dat  \n",
      "  inflating: workshop2022/DATA/GPCR-09-2020/b2AR-unwtapped-WB-SL-700-RAMD_21.dat  \n",
      "  inflating: workshop2022/DATA/GPCR-09-2020/IXO-CHL-lipid14-fixed-cleanBS-unwtapped-WB-FA-700-RAMD_1.pkl  \n",
      "  inflating: workshop2022/DATA/GPCR-09-2020/IXO-ALO-CHL-lipid14-fixed-cleanBS-unwtapped-WB-SL-700-RAMD_07.pkl  \n",
      "  inflating: workshop2022/DATA/GPCR-09-2020/IXO-ALO-CHL-lipid14-fixed-cleanBS-unwtapped-WB-EX-700-RAMD_4.pkl  \n",
      "  inflating: workshop2022/DATA/GPCR-09-2020/b2AR-unwtapped-WB-SL-700-RAMD_01.dat  \n",
      "  inflating: workshop2022/DATA/GPCR-09-2020/b2AR-unwtapped-WB-SL-700-RAMD_31.pkl  \n",
      "  inflating: workshop2022/DATA/GPCR-09-2020/b2AR-unwtapped-WB-EX-700-RAMD_02.dat  \n",
      "  inflating: workshop2022/DATA/GPCR-09-2020/b2AR-unwtapped-WB-EX-700-RAMD_3.dat  \n",
      "  inflating: workshop2022/DATA/GPCR-09-2020/ACh-CHL-lipid14-fixed-cleanBS-unwtapped-WB-SL-700-RAMD_3.dat  \n",
      "  inflating: workshop2022/DATA/GPCR-09-2020/IXO-CHL-lipid14-fixed-cleanBS-unwtapped-WB-SL-700-RAMD_01.pkl  \n",
      "  inflating: workshop2022/DATA/GPCR-09-2020/b2AR-unwtapped-WB-EX-700-RAMD_51.pkl  \n",
      "  inflating: workshop2022/DATA/GPCR-09-2020/IXO-ALO-CHL-lipid14-fixed-cleanBS-unwtapped-WB-SL-700-RAMD_05.dat  \n",
      "  inflating: workshop2022/DATA/GPCR-09-2020/ACh-CHL-lipid14-fixed-cleanBS-unwtapped-WB-SU-700-RAMD_04.pkl  \n",
      "  inflating: workshop2022/DATA/GPCR-09-2020/IXO-CHL-lipid14-fixed-cleanBS-unwtapped-WB-FA-700-RAMD_5.pkl  \n",
      "  inflating: workshop2022/DATA/GPCR-09-2020/b2AR-unwtapped-WB-SL-700-RAMD_51-.dat  \n",
      "  inflating: workshop2022/DATA/GPCR-09-2020/b2AR-unwtapped-WB-SL-700-RAMD_2-.pkl  \n",
      "  inflating: workshop2022/DATA/GPCR-09-2020/ACh-CHL-lipid14-fixed-cleanBS-unwtapped-WB-EX-700-RAMD_5.dat  \n",
      "  inflating: workshop2022/DATA/GPCR-09-2020/b2AR-unwtapped-WB-EX-700-RAMD_03.pkl  \n",
      "  inflating: workshop2022/DATA/GPCR-09-2020/ACh-CHL-lipid14-fixed-cleanBS-unwtapped-WB-SL-600-RAMD_4.dat  \n",
      "  inflating: workshop2022/DATA/GPCR-09-2020/ACh-CHL-lipid14-fixed-cleanBS-unwtapped-WB-SU-700-RAMD_4.dat  \n",
      "  inflating: workshop2022/DATA/GPCR-09-2020/b2AR-unwtapped-WB-EX-700-RAMD_4GPU-.pkl  \n",
      "  inflating: workshop2022/DATA/GPCR-09-2020/ACh-CHL-lipid14-fixed-cleanBS-unwtapped-WB-SU-700-RAMD_0.dat  \n",
      "   creating: workshop2022/DATA/GPCR-09-2020/WATER/\n",
      "  inflating: workshop2022/DATA/GPCR-09-2020/WATER/water-1000_FAST.dat  \n",
      "  inflating: workshop2022/DATA/GPCR-09-2020/WATER/water-1000_EX.dat  \n",
      "  inflating: workshop2022/DATA/GPCR-09-2020/ACh-CHL-lipid14-fixed-cleanBS-unwtapped-WB-SU-700-RAMD_4.pkl  \n",
      "  inflating: workshop2022/DATA/GPCR-09-2020/IXO-ALO-CHL-lipid14-fixed-cleanBS-unwtapped-WB-SL-700-RAMD_6-.pkl  \n",
      "  inflating: workshop2022/DATA/GPCR-09-2020/IXO-ALO-CHL-lipid14-fixed-cleanBS-unwtapped-WB-SL-700-RAMD_07.dat  \n",
      "  inflating: workshop2022/DATA/GPCR-09-2020/b2AR-unwtapped-WB-EX-700-RAMD_3.pkl  \n",
      "  inflating: workshop2022/DATA/GPCR-09-2020/ACh-CHL-lipid14-fixed-cleanBS-unwtapped-WB-FA-700-RAMD_5.dat  \n",
      "  inflating: workshop2022/DATA/GPCR-09-2020/ACh-CHL-lipid14-fixed-cleanBS-unwtapped-WB-SL-600-RAMD_1.pkl  \n",
      "  inflating: workshop2022/DATA/GPCR-09-2020/ACh-CHL-lipid14-fixed-cleanBS-unwtapped-WB-EX-700-RAMD_1.pkl  \n",
      "  inflating: workshop2022/DATA/GPCR-09-2020/b2AR-unwtapped-WB-SL-700-RAMD_02.pkl  \n",
      "  inflating: workshop2022/DATA/GPCR-09-2020/IXO-CHL-lipid14-fixed-cleanBS-unwtapped-WB-EX-700-RAMD_4.dat  \n",
      "  inflating: workshop2022/DATA/GPCR-09-2020/ACh-CHL-lipid14-fixed-cleanBS-unwtapped-WB-SU-700-RAMD_04.dat  \n",
      "  inflating: workshop2022/DATA/GPCR-09-2020/ACh-CHL-lipid14-fixed-cleanBS-unwtapped-WB-SL-500-RAMD_2.pkl  \n",
      "  inflating: workshop2022/DATA/GPCR-09-2020/ACh-CHL-lipid14-fixed-cleanBS-unwtapped-WB-FA-700-RAMD_2.dat  \n",
      "  inflating: workshop2022/DATA/GPCR-09-2020/ACh-CHL-lipid14-fixed-cleanBS-unwtapped-WB-FA-700-RAMD_1.pkl  \n",
      "  inflating: workshop2022/DATA/GPCR-09-2020/IXO-CHL-lipid14-fixed-cleanBS-unwtapped-WB-SL-700-RAMD_05.pkl  \n",
      "  inflating: workshop2022/DATA/GPCR-09-2020/IXO-ALO-CHL-lipid14-fixed-cleanBS-unwtapped-WB-FA-700-RAMD_4.pkl  \n",
      "  inflating: workshop2022/DATA/GPCR-09-2020/IXO-ALO-CHL-lipid14-fixed-cleanBS-unwtapped-WB-FA-700-RAMD_1.dat  \n",
      "  inflating: workshop2022/DATA/GPCR-09-2020/ACh-CHL-lipid14-fixed-cleanBS-unwtapped-WB-SL-700-RAMD_5.pkl  \n",
      "  inflating: workshop2022/DATA/GPCR-09-2020/b2AR-unwtapped-WB-SL-700-RAMD_51-.pkl  \n",
      " extracting: workshop2022/DATA/GPCR-09-2020/b2AR.zip  \n",
      "  inflating: workshop2022/DATA/GPCR-09-2020/IXO-CHL-lipid14-fixed-cleanBS-unwtapped-WB-SL-700-RAMD_1.dat  \n",
      "  inflating: workshop2022/DATA/GPCR-09-2020/b2AR-unwtapped-WB-SL-700-RAMD_03.dat  \n",
      "  inflating: workshop2022/DATA/GPCR-09-2020/IXO-ALO-CHL-lipid14-fixed-cleanBS-unwtapped-WB-SL-700-RAMD_7.dat  \n",
      "  inflating: workshop2022/DATA/GPCR-09-2020/ACh-CHL-lipid14-fixed-cleanBS-unwtapped-WB-SU-700-RAMD_02.dat  \n",
      "  inflating: workshop2022/DATA/GPCR-09-2020/IXO-CHL-lipid14-fixed-cleanBS-unwtapped-WB-SL-700-RAMD_5.dat  \n",
      "  inflating: workshop2022/DATA/GPCR-09-2020/b2AR-unwtapped-WB-EX-700-RAMD_2.dat  \n",
      "  inflating: workshop2022/DATA/GPCR-09-2020/IXO-ALO-CHL-lipid14-fixed-cleanBS-unwtapped-WB-SL-700-RAMD_5.dat  \n",
      "  inflating: workshop2022/DATA/GPCR-09-2020/ACh-CHL-lipid14-fixed-cleanBS-unwtapped-WB-EX-600-RAMD_3.pkl  \n",
      "  inflating: workshop2022/DATA/GPCR-09-2020/ACh-CHL-lipid14-fixed-cleanBS-unwtapped-WB-EX-600-RAMD_0.dat  \n",
      "  inflating: workshop2022/DATA/GPCR-09-2020/IXO-ALO-CHL-lipid14-fixed-cleanBS-unwtapped-WB-SL-700-RAMD_3.pkl  \n",
      "  inflating: workshop2022/DATA/GPCR-09-2020/IXO-ALO-CHL-lipid14-fixed-cleanBS-unwtapped-WB-EX-700-RAMD_6.dat  \n"
     ]
    },
    {
     "name": "stdout",
     "output_type": "stream",
     "text": [
      "  inflating: workshop2022/DATA/GPCR-09-2020/ACh-CHL-lipid14-fixed-cleanBS-unwtapped-WB-SL-600-RAMD_2.pkl  \n",
      "  inflating: workshop2022/DATA/GPCR-09-2020/b2AR-unwtapped-WB-SL-700-RAMD_04.dat  \n",
      "  inflating: workshop2022/DATA/GPCR-09-2020/ACh-CHL-lipid14-fixed-cleanBS-unwtapped-WB-SU-700-RAMD_05.dat  \n",
      "  inflating: workshop2022/DATA/GPCR-09-2020/b2AR-unwtapped-WB-EX-700-RAMD_5.pkl  \n",
      "  inflating: workshop2022/DATA/GPCR-09-2020/IXO-CHL-lipid14-fixed-cleanBS-unwtapped-WB-EX-700-RAMD_5.dat  \n",
      "  inflating: workshop2022/DATA/GPCR-09-2020/IXO-CHL-lipid14-fixed-cleanBS-unwtapped-WB-EX-700-RAMD_3.dat  \n",
      "  inflating: workshop2022/DATA/GPCR-09-2020/ACh-CHL-lipid14-fixed-cleanBS-unwtapped-WB-EX-700-RAMD_1.dat  \n",
      "  inflating: workshop2022/DATA/GPCR-09-2020/b2AR-unwtapped-WB-EX-700-RAMD_4GPU0-.pkl  \n",
      "  inflating: workshop2022/DATA/GPCR-09-2020/b2AR-unwtapped-WB-SL-700-RAMD_21.pkl  \n",
      "  inflating: workshop2022/DATA/GPCR-09-2020/IXO-ALO-CHL-lipid14-fixed-cleanBS-unwtapped-WB-FA-700-RAMD_6.pkl  \n",
      "  inflating: workshop2022/DATA/GPCR-09-2020/ACh-CHL-lipid14-fixed-cleanBS-unwtapped-WB-SU-700-RAMD_2.pkl  \n",
      "  inflating: workshop2022/DATA/GPCR-09-2020/IXO-ALO-CHL-lipid14-fixed-cleanBS-unwtapped-WB-EX-700-RAMD_7.dat  \n",
      "  inflating: workshop2022/DATA/GPCR-09-2020/ACh-CHL-lipid14-fixed-cleanBS-unwtapped-WB-SL-500-RAMD_4.pkl  \n",
      "  inflating: workshop2022/DATA/GPCR-09-2020/ACh-CHL-lipid14-fixed-cleanBS-unwtapped-WB-SL-700-RAMD_5.dat  \n",
      "  inflating: workshop2022/DATA/GPCR-09-2020/IXO-CHL-lipid14-fixed-cleanBS-unwtapped-WB-SL-700-RAMD_01.dat  \n",
      "  inflating: workshop2022/DATA/GPCR-09-2020/IXO-ALO-CHL-lipid14-fixed-cleanBS-unwtapped-WB-SL-700-RAMD_4.dat  \n",
      "  inflating: workshop2022/DATA/GPCR-09-2020/IXO-ALO-CHL-lipid14-fixed-cleanBS-unwtapped-WB-FA-700-RAMD_3.pkl  \n",
      "  inflating: workshop2022/DATA/GPCR-09-2020/b2AR-unwtapped-WB-EX-700-RAMD_5-.pkl  \n",
      "  inflating: workshop2022/DATA/GPCR-09-2020/ACh-CHL-lipid14-fixed-cleanBS-unwtapped-WB-EX-700-RAMD_3.dat  \n",
      "  inflating: workshop2022/DATA/GPCR-09-2020/b2AR-unwtapped-WB-SL-700-RAMD_41.dat  \n",
      "  inflating: workshop2022/DATA/GPCR-09-2020/IXO-CHL-lipid14-fixed-cleanBS-unwtapped-WB-FA-700-RAMD_4.pkl  \n",
      "  inflating: workshop2022/DATA/GPCR-09-2020/b2AR-unwtapped-WB-EX-700-RAMD_1.pkl  \n",
      "  inflating: workshop2022/DATA/GPCR-09-2020/IXO-ALO-CHL-lipid14-fixed-cleanBS-unwtapped-WB-SL-700-RAMD_0.pkl  \n",
      "  inflating: workshop2022/DATA/GPCR-09-2020/b2AR-unwtapped-WB-EX-700-RAMD_2.pkl  \n",
      "  inflating: workshop2022/DATA/GPCR-09-2020/b2AR-unwtapped-WB-EX-700-RAMD_02.pkl  \n",
      "  inflating: workshop2022/DATA/GPCR-09-2020/ACh-CHL-lipid14-fixed-cleanBS-unwtapped-WB-SL-600-RAMD_1.dat  \n",
      "  inflating: workshop2022/DATA/GPCR-09-2020/IXO-CHL-lipid14-fixed-cleanBS-unwtapped-WB-FA-700-RAMD_2.pkl  \n",
      "  inflating: workshop2022/DATA/GPCR-09-2020/ACh-CHL-lipid14-fixed-cleanBS-unwtapped-WB-EX-700-RAMD_4.dat  \n",
      "  inflating: workshop2022/DATA/GPCR-09-2020/IXO-ALO-CHL-lipid14-fixed-cleanBS-unwtapped-WB-FA-700-RAMD_5.pkl  \n",
      "  inflating: workshop2022/DATA/GPCR-09-2020/ACh-CHL-lipid14-fixed-cleanBS-unwtapped-WB-FA-700-RAMD_1.dat  \n",
      "  inflating: workshop2022/DATA/GPCR-09-2020/ACh-CHL-lipid14-fixed-cleanBS-unwtapped-WB-SU-700-RAMD_1.dat  \n",
      "  inflating: workshop2022/DATA/GPCR-09-2020/IXO-ALO-CHL-lipid14-fixed-cleanBS-unwtapped-WB-EX-700-RAMD_3.dat  \n",
      "  inflating: workshop2022/DATA/GPCR-09-2020/ACh-CHL-lipid14-fixed-cleanBS-unwtapped-WB-SU-700-RAMD_03.dat  \n",
      "  inflating: workshop2022/DATA/GPCR-09-2020/ACh-CHL-lipid14-fixed-cleanBS-unwtapped-WB-EX-600-RAMD_1.pkl  \n",
      "  inflating: workshop2022/DATA/GPCR-09-2020/b2AR-unwtapped-WB-SL-700-RAMD_03.pkl  \n",
      "  inflating: workshop2022/DATA/GPCR-09-2020/ACh-CHL-lipid14-fixed-cleanBS-unwtapped-WB-SU-700-RAMD_05.pkl  \n",
      "  inflating: workshop2022/DATA/GPCR-09-2020/IXO-ALO-CHL-lipid14-fixed-cleanBS-unwtapped-WB-EX-700-RAMD_1.dat  \n",
      "  inflating: workshop2022/DATA/GPCR-09-2020/IXO-CHL-lipid14-fixed-cleanBS-unwtapped-WB-FA-700-RAMD_4.dat  \n",
      "  inflating: workshop2022/DATA/GPCR-09-2020/IXO-ALO-CHL-lipid14-fixed-cleanBS-unwtapped-WB-SL-700-RAMD_7.pkl  \n",
      "  inflating: workshop2022/DATA/GPCR-09-2020/IXO-CHL-lipid14-fixed-cleanBS-unwtapped-WB-SL-700-RAMD_4.pkl  \n",
      "  inflating: workshop2022/DATA/GPCR-09-2020/ACh-CHL-lipid14-fixed-cleanBS-unwtapped-WB-EX-600-RAMD_4.dat  \n",
      "  inflating: workshop2022/DATA/GPCR-09-2020/ACh-CHL-lipid14-fixed-cleanBS-unwtapped-WB-FA-700-RAMD_3.dat  \n",
      "  inflating: workshop2022/DATA/GPCR-09-2020/ACh-CHL-lipid14-fixed-cleanBS-unwtapped-WB-EX-700-RAMD_2.dat  \n",
      "  inflating: workshop2022/DATA/GPCR-09-2020/ACh-CHL-lipid14-fixed-cleanBS-unwtapped-WB-SU-700-RAMD_3.pkl  \n",
      "  inflating: workshop2022/DATA/GPCR-09-2020/ACh-CHL-lipid14-fixed-cleanBS-unwtapped-WB-EX-700-RAMD_2.pkl  \n",
      "  inflating: workshop2022/DATA/GPCR-09-2020/IXO-ALO-CHL-lipid14-fixed-cleanBS-unwtapped-WB-FA-700-RAMD_6.dat  \n",
      "  inflating: workshop2022/DATA/GPCR-09-2020/IXO-CHL-lipid14-fixed-cleanBS-unwtapped-WB-EX-700-RAMD_5.pkl  \n",
      "  inflating: workshop2022/DATA/GPCR-09-2020/IXO-ALO-CHL-lipid14-fixed-cleanBS-unwtapped-WB-SL-700-RAMD_3.dat  \n",
      "  inflating: workshop2022/DATA/GPCR-09-2020/b2AR-unwtapped-WB-SL-700-RAMD_01.pkl  \n",
      "  inflating: workshop2022/DATA/GPCR-09-2020/IXO-CHL-lipid14-fixed-cleanBS-unwtapped-WB-SL-700-RAMD_03.pkl  \n",
      "  inflating: workshop2022/DATA/GPCR-09-2020/IXO-ALO-CHL-lipid14-fixed-cleanBS-unwtapped-WB-EX-700-RAMD_6.pkl  \n",
      "  inflating: workshop2022/DATA/GPCR-09-2020/IXO-CHL-lipid14-fixed-cleanBS-unwtapped-WB-SL-700-RAMD_5.pkl  \n",
      "  inflating: workshop2022/DATA/GPCR-09-2020/IXO-CHL-lipid14-fixed-cleanBS-unwtapped-WB-FA-700-RAMD_5.dat  \n",
      "  inflating: workshop2022/DATA/GPCR-09-2020/ACh-CHL-lipid14-fixed-cleanBS-unwtapped-WB-EX-700-RAMD_5.pkl  \n",
      "  inflating: workshop2022/DATA/GPCR-09-2020/IXO-ALO-CHL-lipid14-fixed-cleanBS-unwtapped-WB-SL-700-RAMD_05.pkl  \n",
      "  inflating: workshop2022/DATA/GPCR-09-2020/ACh-CHL-lipid14-fixed-cleanBS-unwtapped-WB-SU-700-RAMD_02.pkl  \n",
      "  inflating: workshop2022/DATA/GPCR-09-2020/IXO-CHL-lipid14-fixed-cleanBS-unwtapped-WB-EX-700-RAMD_6.pkl  \n",
      "  inflating: workshop2022/DATA/GPCR-09-2020/b2AR-unwtapped-WB-EX-700-RAMD_05.dat  \n",
      "  inflating: workshop2022/DATA/GPCR-09-2020/b2AR-unwtapped-WB-SL-700-RAMD_3-.pkl  \n",
      "  inflating: workshop2022/DATA/GPCR-09-2020/b2AR-unwtapped-WB-EX-700-RAMD_04.pkl  \n",
      "  inflating: workshop2022/DATA/GPCR-09-2020/IXO-CHL-lipid14-fixed-cleanBS-unwtapped-WB-SL-700-RAMD_04.pkl  \n",
      "  inflating: workshop2022/DATA/GPCR-09-2020/ACh-CHL-lipid14-fixed-cleanBS-unwtapped-WB-SU-700-RAMD_0.pkl  \n",
      "  inflating: workshop2022/DATA/GPCR-09-2020/IXO-ALO-CHL-lipid14-fixed-cleanBS-unwtapped-WB-FA-700-RAMD_5.dat  \n",
      "  inflating: workshop2022/DATA/GPCR-09-2020/ACh-CHL-lipid14-fixed-cleanBS-unwtapped-WB-SU-700-RAMD_03.pkl  \n",
      "  inflating: workshop2022/DATA/GPCR-09-2020/IXO-CHL-lipid14-fixed-cleanBS-unwtapped-WB-SL-700-RAMD_2.pkl  \n",
      "  inflating: workshop2022/DATA/GPCR-09-2020/ACh-CHL-lipid14-fixed-cleanBS-unwtapped-WB-EX-600-RAMD_2.dat  \n",
      "  inflating: workshop2022/DATA/GPCR-09-2020/b2AR-unwtapped-WB-SL-700-RAMD_4-.pkl  \n",
      "  inflating: workshop2022/DATA/GPCR-09-2020/ACh-CHL-lipid14-fixed-cleanBS-unwtapped-WB-SU-700-RAMD_01.dat  \n",
      "  inflating: workshop2022/DATA/GPCR-09-2020/IXO-CHL-lipid14-fixed-cleanBS-unwtapped-WB-FA-700-RAMD_3.dat  \n",
      "  inflating: workshop2022/DATA/GPCR-09-2020/ACh-CHL-lipid14-fixed-cleanBS-unwtapped-WB-FA-700-RAMD_4.pkl  \n",
      "  inflating: workshop2022/DATA/GPCR-09-2020/ACh-CHL-lipid14-fixed-cleanBS-unwtapped-WB-SU-700-RAMD_1.pkl  \n",
      "  inflating: workshop2022/DATA/GPCR-09-2020/b2AR-unwtapped-WB-EX-700-RAMD_51.dat  \n",
      "  inflating: workshop2022/DATA/GPCR-09-2020/b2AR-unwtapped-WB-EX-700-RAMD_4.dat  \n",
      "  inflating: workshop2022/DATA/GPCR-09-2020/b2AR-unwtapped-WB-SL-700-RAMD_1-.dat  \n",
      "  inflating: workshop2022/DATA/GPCR-09-2020/ACh-CHL-lipid14-fixed-cleanBS-unwtapped-WB-SL-600-RAMD_3.dat  \n",
      "  inflating: workshop2022/DATA/GPCR-09-2020/ACh-CHL-lipid14-fixed-cleanBS-unwtapped-WB-FA-700-RAMD_3.pkl  \n",
      "  inflating: workshop2022/DATA/GPCR-09-2020/ACh-CHL-lipid14-fixed-cleanBS-unwtapped-WB-EX-600-RAMD_3.dat  \n",
      "  inflating: workshop2022/DATA/GPCR-09-2020/ACh-CHL-lipid14-fixed-cleanBS-unwtapped-WB-SL-700-RAMD_4.pkl  \n",
      "  inflating: workshop2022/DATA/GPCR-09-2020/b2AR-unwtapped-WB-SL-700-RAMD_2-.dat  \n",
      "  inflating: workshop2022/DATA/GPCR-09-2020/IXO-ALO-CHL-lipid14-fixed-cleanBS-unwtapped-WB-SL-700-RAMD_0.dat  \n",
      "  inflating: workshop2022/DATA/GPCR-09-2020/ACh-CHL-lipid14-fixed-cleanBS-unwtapped-WB-SL-500-RAMD_1.pkl  \n",
      "  inflating: workshop2022/DATA/GPCR-09-2020/IXO-CHL-lipid14-fixed-cleanBS-unwtapped-WB-EX-700-RAMD_1.pkl  \n",
      "  inflating: workshop2022/DATA/GPCR-09-2020/b2AR-unwtapped-WB-SL-700-RAMD_4-.dat  \n",
      "  inflating: workshop2022/DATA/GPCR-09-2020/ACh-CHL-lipid14-fixed-cleanBS-unwtapped-WB-EX-600-RAMD_0.pkl  \n",
      "  inflating: workshop2022/DATA/GPCR-09-2020/ACh-CHL-lipid14-fixed-cleanBS-unwtapped-WB-FA-700-RAMD_2.pkl  \n",
      "  inflating: workshop2022/DATA/GPCR-09-2020/ACh-CHL-lipid14-fixed-cleanBS-unwtapped-WB-SU-700-RAMD_3.dat  \n",
      "  inflating: workshop2022/DATA/GPCR-09-2020/IXO-CHL-lipid14-fixed-cleanBS-unwtapped-WB-SL-700-RAMD_2.dat  \n"
     ]
    },
    {
     "name": "stdout",
     "output_type": "stream",
     "text": [
      "  inflating: workshop2022/DATA/GPCR-09-2020/IXO-ALO-CHL-lipid14-fixed-cleanBS-unwtapped-WB-SL-700-RAMD_4.pkl  \n",
      "  inflating: workshop2022/DATA/GPCR-09-2020/IXO-CHL-lipid14-fixed-cleanBS-unwtapped-WB-FA-700-RAMD_2.dat  \n",
      "  inflating: workshop2022/DATA/GPCR-09-2020/IXO-ALO-CHL-lipid14-fixed-cleanBS-unwtapped-WB-SL-700-RAMD_61.dat  \n",
      "  inflating: workshop2022/DATA/GPCR-09-2020/IXO-CHL-lipid14-fixed-cleanBS-unwtapped-WB-FA-700-RAMD_1.dat  \n",
      "  inflating: workshop2022/DATA/GPCR-09-2020/IXO-CHL-lipid14-fixed-cleanBS-unwtapped-WB-SL-700-RAMD_02.pkl  \n",
      "  inflating: workshop2022/DATA/GPCR-09-2020/IXO-ALO-CHL-lipid14-fixed-cleanBS-unwtapped-WB-EX-700-RAMD_1.pkl  \n",
      "  inflating: workshop2022/DATA/GPCR-09-2020/ACh-CHL-lipid14-fixed-cleanBS-unwtapped-WB-SL-700-RAMD_2.dat  \n",
      "  inflating: workshop2022/DATA/GPCR-09-2020/b2AR-unwtapped-WB-EX-700-RAMD_4GPU-.dat  \n",
      "  inflating: workshop2022/DATA/GPCR-09-2020/b2AR-unwtapped-WB-SL-700-RAMD_3-.dat  \n",
      "  inflating: workshop2022/DATA/GPCR-09-2020/IXO-CHL-lipid14-fixed-cleanBS-unwtapped-WB-SL-700-RAMD_0.pkl  \n",
      "  inflating: workshop2022/DATA/GPCR-09-2020/ACh-CHL-lipid14-fixed-cleanBS-unwtapped-WB-SU-700-RAMD_2.dat  \n",
      "  inflating: workshop2022/DATA/GPCR-09-2020/b2AR-unwtapped-WB-SL-700-RAMD_11.pkl  \n",
      "  inflating: workshop2022/DATA/GPCR-09-2020/ACh-CHL-lipid14-fixed-cleanBS-unwtapped-WB-SL-600-RAMD_3.pkl  \n",
      "  inflating: workshop2022/DATA/GPCR-09-2020/b2AR-unwtapped-WB-EX-700-RAMD_4.pkl  \n",
      "  inflating: workshop2022/DATA/GPCR-09-2020/IXO-CHL-lipid14-fixed-cleanBS-unwtapped-WB-SL-700-RAMD_4.dat  \n",
      "  inflating: workshop2022/DATA/GPCR-09-2020/b2AR-unwtapped-WB-EX-700-RAMD_1.dat  \n",
      "  inflating: workshop2022/DATA/GPCR-09-2020/IXO-ALO-CHL-lipid14-fixed-cleanBS-unwtapped-WB-SL-700-RAMD_6-.dat  \n",
      "  inflating: workshop2022/DATA/GPCR-09-2020/IXO-ALO-CHL-lipid14-fixed-cleanBS-unwtapped-WB-SL-700-RAMD_61.pkl  \n",
      "  inflating: workshop2022/DATA/GPCR-09-2020/b2AR-unwtapped-WB-SL-700-RAMD_11.dat  \n",
      "  inflating: workshop2022/DATA/GPCR-09-2020/IXO-CHL-lipid14-fixed-cleanBS-unwtapped-WB-SL-700-RAMD_3.dat  \n",
      "  inflating: workshop2022/DATA/GPCR-09-2020/ACh-CHL-lipid14-fixed-cleanBS-unwtapped-WB-SL-600-RAMD_2.dat  \n",
      "  inflating: workshop2022/DATA/GPCR-09-2020/IXO-ALO-CHL-lipid14-fixed-cleanBS-unwtapped-WB-EX-700-RAMD_5.pkl  \n",
      "  inflating: workshop2022/DATA/GPCR-09-2020/ACh-CHL-lipid14-fixed-cleanBS-unwtapped-WB-SL-700-RAMD_4.dat  \n",
      "  inflating: workshop2022/DATA/GPCR-09-2020/b2AR-unwtapped-WB-SL-700-RAMD_02.dat  \n",
      "  inflating: workshop2022/DATA/GPCR-09-2020/ACh-CHL-lipid14-fixed-cleanBS-unwtapped-WB-SU-700-RAMD_01.pkl  \n",
      "  inflating: workshop2022/DATA/GPCR-09-2020/IXO-ALO-CHL-lipid14-fixed-cleanBS-unwtapped-WB-SL-700-RAMD_5.pkl  \n",
      "  inflating: workshop2022/DATA/GPCR-09-2020/ACh-CHL-lipid14-fixed-cleanBS-unwtapped-WB-EX-700-RAMD_3.pkl  \n",
      "  inflating: workshop2022/DATA/GPCR-09-2020/IXO-ALO-CHL-lipid14-fixed-cleanBS-unwtapped-WB-SL-700-RAMD_1.pkl  \n",
      "  inflating: workshop2022/DATA/GPCR-09-2020/IXO-CHL-lipid14-fixed-cleanBS-unwtapped-WB-EX-700-RAMD_4.pkl  \n",
      "  inflating: workshop2022/DATA/GPCR-09-2020/IXO-CHL-lipid14-fixed-cleanBS-unwtapped-WB-EX-700-RAMD_6.dat  \n",
      "  inflating: workshop2022/DATA/GPCR-09-2020/IXO-CHL-lipid14-fixed-cleanBS-unwtapped-WB-FA-700-RAMD_3.pkl  \n",
      "  inflating: workshop2022/DATA/GPCR-09-2020/IXO-ALO-CHL-lipid14-fixed-cleanBS-unwtapped-WB-FA-700-RAMD_1.pkl  \n",
      "  inflating: workshop2022/DATA/GPCR-09-2020/ACh-CHL-lipid14-fixed-cleanBS-unwtapped-WB-SL-700-RAMD_2.pkl  \n",
      "  inflating: workshop2022/DATA/GPCR-09-2020/b2AR-unwtapped-WB-EX-700-RAMD_03.dat  \n",
      "  inflating: workshop2022/DATA/GPCR-09-2020/ACh-CHL-lipid14-fixed-cleanBS-unwtapped-WB-SL-700-RAMD_1.dat  \n",
      "  inflating: workshop2022/DATA/GPCR-09-2020/IXO-CHL-lipid14-fixed-cleanBS-unwtapped-WB-SL-700-RAMD_03.dat  \n",
      "  inflating: workshop2022/DATA/GPCR-09-2020/IXO-ALO-CHL-lipid14-fixed-cleanBS-unwtapped-WB-EX-700-RAMD_3.pkl  \n",
      "  inflating: workshop2022/DATA/GPCR-09-2020/IXO-ALO-CHL-lipid14-fixed-cleanBS-unwtapped-WB-FA-700-RAMD_0.pkl  \n",
      "  inflating: workshop2022/DATA/GPCR-09-2020/ACh-CHL-lipid14-fixed-cleanBS-unwtapped-WB-SL-500-RAMD_3.pkl  \n",
      "  inflating: workshop2022/DATA/GPCR-09-2020/b2AR-unwtapped-WB-EX-700-RAMD_5.dat  \n",
      "  inflating: workshop2022/DATA/GPCR-09-2020/ACh-CHL-lipid14-fixed-cleanBS-unwtapped-WB-SL-700-RAMD_1.pkl  \n",
      "  inflating: workshop2022/DATA/GPCR-09-2020/IXO-CHL-lipid14-fixed-cleanBS-unwtapped-WB-SL-700-RAMD_05.dat  \n",
      "  inflating: workshop2022/DATA/GPCR-09-2020/ACh-CHL-lipid14-fixed-cleanBS-unwtapped-WB-FA-700-RAMD_5.pkl  \n",
      "  inflating: workshop2022/DATA/GPCR-09-2020/IXO-CHL-lipid14-fixed-cleanBS-unwtapped-WB-EX-700-RAMD_1.dat  \n",
      "  inflating: workshop2022/DATA/GPCR-09-2020/b2AR-unwtapped-WB-SL-700-RAMD_04.pkl  \n",
      "  inflating: workshop2022/DATA/GPCR-09-2020/IXO-CHL-lipid14-fixed-cleanBS-unwtapped-WB-SL-700-RAMD_04.dat  \n",
      "  inflating: workshop2022/DATA/GPCR-09-2020/IXO-CHL-lipid14-fixed-cleanBS-unwtapped-WB-EX-700-RAMD_2.dat  \n",
      "  inflating: workshop2022/DATA/GPCR-09-2020/IXO-CHL-lipid14-fixed-cleanBS-unwtapped-WB-SL-700-RAMD_02.dat  \n",
      "   creating: workshop2022/DATA/Scripts/\n",
      "   creating: workshop2022/DATA/Scripts/__pycache__/\n",
      "  inflating: workshop2022/DATA/Scripts/__pycache__/Clustering.cpython-37.pyc  \n",
      "  inflating: workshop2022/DATA/Scripts/__pycache__/Complex_structure.cpython-37.pyc  \n",
      "  inflating: workshop2022/DATA/Scripts/__pycache__/IFP_generation.cpython-37.pyc  \n",
      "  inflating: workshop2022/DATA/Scripts/__pycache__/Trajectories.cpython-37.pyc  \n",
      "  inflating: workshop2022/DATA/Scripts/Complex_structure.py  \n",
      "  inflating: workshop2022/DATA/Scripts/IFP_generation.py  \n",
      "  inflating: workshop2022/DATA/Scripts/Trajectories.py  \n",
      "  inflating: workshop2022/DATA/Scripts/Clustering.py  \n",
      "  inflating: workshop2022/DATA/PDB/4MQT-IXO-PAM.pdb  \n",
      "  inflating: workshop2022/DATA/PDB/4QMT-ACh.pdb  \n",
      "  inflating: workshop2022/DATA/PDB/4QMT-IXO.pdb  \n",
      "/exports/scratch/git/MD-IFP/content/work/tauRAMD-egressroutes.1/workshop2022/DATA\n"
     ]
    },
    {
     "name": "stderr",
     "output_type": "stream",
     "text": [
      "/exports/scratch/ana3/envs/md/lib/python3.8/site-packages/MDAnalysis/coordinates/chemfiles.py:59: DeprecationWarning: distutils Version classes are deprecated. Use packaging.version instead.\n",
      "  MIN_CHEMFILES_VERSION = LooseVersion(\"0.9\")\n",
      "/exports/scratch/ana3/envs/md/lib/python3.8/site-packages/MDAnalysis/analysis/hbonds/hbond_analysis.py:342: DeprecationWarning: This module is deprecated as of MDAnalysis version 1.0.It will be removed in MDAnalysis version 2.0Please use MDAnalysis.analysis.hydrogenbonds.hbond_analysis instead.\n",
      "  warnings.warn(\n",
      "/exports/scratch/ana3/envs/md/lib/python3.8/site-packages/MDAnalysis/analysis/hbonds/wbridge_analysis.py:30: DeprecationWarning: This module has been moved to MDAnalysis.analysis.hydrogenbonds.wbridge_analysis It will be removed in release 2.0\n",
      "  warnings.warn((\"This module has been moved to \"\n"
     ]
    }
   ],
   "source": [
    "!wget -O workshop2022.zip https://mcm.h-its.org/wiki/lib/exe/fetch.php?media=googlecolab:workshop2022_2.zip\n",
    "!unzip -o workshop2022.zip\n",
    "%cd workshop2022/DATA/\n",
    "from Scripts.Clustering import *"
   ]
  },
  {
   "cell_type": "markdown",
   "metadata": {
    "id": "q25czWvLEiLn"
   },
   "source": [
    "# **1. Interaction Fingerprint (IFP) generation**\n",
    "\n",
    "# What is an IFP?  \n",
    "IFP represents a 3D protein–ligand interaction profile as a binary vector of interactions (such as hydrogen- or halogen-bonds, aromatic stacking, salt bridges, or hydrophobic contacts).\n",
    "\n",
    "We considered the following 8 classes of receptor–ligand interactions to define the IFPs in the MD-IFP analysis: hydrophobic (**HY**), aromatic (**AR**), hydrogen bond donor (**HD**) or acceptor (**HA**), salt bridge (**IP/IN**), halogen bonds (**HL**), and water bridge (**WB**).\n",
    "\n",
    "The identification of the protein-ligand interaction fingerprints (PL-**IFPs**) is done using the **RDKit** software and the **MDAnalysis** python library. Prerequisites for the IFP calculation are a structure of a protonated protein–ligand complex and a ligand structure in the mol2 format. For the detection of water bridges, energy minimization of the structure of the protein–ligand complex is desirable. For more details on how IFP is defined, see [Kokh et al. 2019](https://aip.scitation.org/doi/10.1063/5.0019088). Finally, all nonspecific protein–ligand residue contacts (PL-**RE**s) within a threshold of 5 Å between heavy atoms were stored.\n",
    "\n",
    "The IFPs are computed using the **IFP_generation.py** script (found in `DATA/GPCR-09-2020/Scripts/`) that stores both the PL-IFPs and PL-REs for each snapshot as binary vectors with 0/1 values for each individual contact (*i.e.*, residue and type of interaction). The vectors generated from all trajectories for each compound and for each random force applied are then collected in a binary matrix.\n",
    "\n",
    "The IFP_generation.py script, besides PL-IFPs and PL-REs, computes the ligand RMSD from the bound position, and the ligand COM for each snapshot and stores them in a `.pkl` file. Below is an example of how .pkl files containing the IFP and COM information should look like:\n",
    "\n",
    "    AR_PHE162 AR_PHE177 AR_PHE232 AR_TRP137  ... WB_VAL77  COM_x  COM_y  COM_z\n",
    "    0      0         0         0        0   ...        0  46.00  71.09  85.83\n",
    "    1      0         0         0        0   ...        0  46.28  71.29  85.7\n",
    "    2      0         0         0        0   ...        0  46.07  71.13  85.88\n",
    "    ...   ...        ...       ...      ...  ...      ...   ...    ...    ...\n",
    "\n",
    "Both PL-IFPs and PL-REs are generated for the last 700 frames of\n",
    "each RAMD dissociation trajectory, thus discarding most of the frames in which the ligand retains the bound-state position. \n",
    "\n",
    "**Note:** If a dissociation event was not observed because the simulation time allowed was exceeded, the trajectory was discarded from the analysis.\n"
   ]
  },
  {
   "cell_type": "markdown",
   "metadata": {
    "id": "DemBh_tPXtUg"
   },
   "source": [
    "# **2. Read IFP data and prepare them for analysis**\n"
   ]
  },
  {
   "cell_type": "markdown",
   "metadata": {
    "id": "fo0O17KWtKf_"
   },
   "source": [
    "With the next cell we assign variables to the different definitions of IFPs (IFP and/or non specific contacts (RE)) and different simulation tyoes (according to the different force magnitude)."
   ]
  },
  {
   "cell_type": "code",
   "execution_count": 6,
   "metadata": {
    "id": "n-jYToeYeHWL"
   },
   "outputs": [],
   "source": [
    "IFP_all =  [\"AR\",\"HD\",\"HA\",\"HY\",\"WB\",\"IP\",\"IN\",\"WB\"]\n",
    "IFP_RE =  [\"RE\"]\n",
    "IFP_mixed =  [\"AR\",\"HD\",\"HA\",\"HY\",\"WB\",\"IP\",\"IN\",\"WB\",\"RE\"]\n",
    "\n",
    "# naming: forse cambiare 600 con 700\n",
    "# \"*SL-600-RAMD*.pkl\"  - force 14 kcal/mol A\n",
    "# \"*FA-600-RAMD*.pkl\"  - force 16 kcal/mol A\n",
    "# \"*EX-600-RAMD*.pkl\"  - force 12 kcal/mol A\n",
    "# \"*SU-600-RAMD*.pkl\"  - force 10 kcal/mol A\n",
    "# \"IXO-CHL\"   - iperoxo\n",
    "# \"IXO-ALO\"   - iperoxo _PAM\n",
    "# \"ACh-CHL\"   - Ach\n",
    "\n",
    "# choose simulation type\n",
    "simulation_type = {\"f16_\":\"*FA-700-RAMD*.pkl\",\"f14_\":\"*SL-700-RAMD*.pkl\",\"f12_\":\"*EX-700-RAMD*.pkl\",\"f10_\":\"*SU-700-RAMD*.pkl\",}"
   ]
  },
  {
   "cell_type": "markdown",
   "metadata": {
    "id": "v0ZSJcAkXzCY"
   },
   "source": [
    "**2.1 Define system and data location to be analyzed**\n",
    "\n",
    "The working directory `workshop2022/DATA/GPCR-09-2020/` contains all the `*pkl` files necessary for the IFP analysis for all the three ligands (IXO-CHL, IXO-ALO and ACh-CHL) at all the different force magnitudes.\n",
    "\n",
    "With the following cell, you are first requested to choose the force magnitude (`version`) and the ligand of interest (`ligand`). As a result, a directory for storing the IFP analysis results will be created. IXO-CHL and force magnitude 12 kcal mol-1 Å-1 are selected for the analysis.\n"
   ]
  },
  {
   "cell_type": "code",
   "execution_count": 7,
   "metadata": {
    "colab": {
     "base_uri": "https://localhost:8080/"
    },
    "id": "MH3t3t-feMPq",
    "outputId": "595a0aef-ad70-4ba2-fd72-5efd0438c306"
   },
   "outputs": [
    {
     "name": "stdout",
     "output_type": "stream",
     "text": [
      "/exports/scratch/git/MD-IFP/content/work/tauRAMD-egressroutes.1/workshop2022/DATA/GPCR-09-2020/IXO-CHL-Results/\n"
     ]
    }
   ],
   "source": [
    "######################## Select the system to be analized\n",
    "dir_all =  os.path.join(useCaseDir, \"workshop2022/DATA/GPCR-09-2020/\")\n",
    "\n",
    "noLIP = False\n",
    "# Choose a system: either mAChR M2 muscarinic receptor or β2AR - β2-adrenergic receptor \n",
    "M2 = True\n",
    "AR = not M2\n",
    "# choose data computed using a specific RAMD force \n",
    "version = \"f12_\" \n",
    "#############################\n",
    "\n",
    "DIR_in = dir_all\n",
    "if M2: \n",
    "    # choose a ligand:   \n",
    "    #   \"IXO-ALO\" - iperoxo with PAM\n",
    "    #   \"IXO-CHL\" - iperoxo\n",
    "    #   \"ACh-CHL\" - Ach\n",
    "    ligand =\"IXO-CHL\" \n",
    "    name_template = ligand+simulation_type[version] #\"*SL-700-RAMD*.pkl\"  \"*FA-700-RAMD*.pkl\"\n",
    "    DIR_out = DIR_in+ligand+\"-Results/\"\n",
    "    if not os.path.exists(DIR_out): os.mkdir(DIR_out)\n",
    "elif AR:\n",
    "    ligand =  \"b2AR\" \n",
    "    name_template = ligand+simulation_type[version]   #\"*EX-700-RAMD*.pkl\"  \"*SL-700-RAMD*.pkl\"  \"*FA-600-RAMD*.pkl\"\n",
    "    DIR_out = DIR_in+ligand+\"-Results/\"\n",
    "    if not os.path.exists(DIR_out): os.mkdir(DIR_out)\n",
    "print(DIR_out)"
   ]
  },
  {
   "cell_type": "markdown",
   "metadata": {
    "id": "vpJ7nhX_YBtR"
   },
   "source": [
    "**2.2 Read IFP database for just one ligand**\n",
    "\n",
    "With the following cell all the IFP `.pkl` files for the chosen ligand and the chosen force magnitude are read and concatenated into the `df_tot` dataset. The resulting dataset is then sorted by residue number and IFP type."
   ]
  },
  {
   "cell_type": "code",
   "execution_count": 8,
   "metadata": {
    "colab": {
     "base_uri": "https://localhost:8080/"
    },
    "id": "qzCllnJOePEy",
    "outputId": "27758799-6248-4168-e396-26176dce5ae0"
   },
   "outputs": [
    {
     "name": "stdout",
     "output_type": "stream",
     "text": [
      "/exports/scratch/git/MD-IFP/content/work/tauRAMD-egressroutes.1/workshop2022/DATA/GPCR-09-2020/IXO-CHL-lipid14-fixed-cleanBS-unwtapped-WB-EX-700-RAMD_4.pkl IXO-CHL-lipid14-fixed-cleanBS-unwtapped-WB-EX-700-\n",
      "Trajectory length will be taken from /exports/scratch/git/MD-IFP/content/work/tauRAMD-egressroutes.1/workshop2022/DATA/GPCR-09-2020/IXO-CHL-lipid14-fixed-cleanBS-unwtapped-WB-EX-700-RAMD_4.dat\n",
      "/exports/scratch/git/MD-IFP/content/work/tauRAMD-egressroutes.1/workshop2022/DATA/GPCR-09-2020/IXO-CHL-lipid14-fixed-cleanBS-unwtapped-WB-EX-700-RAMD_2.pkl IXO-CHL-lipid14-fixed-cleanBS-unwtapped-WB-EX-700-\n",
      "Trajectory length will be taken from /exports/scratch/git/MD-IFP/content/work/tauRAMD-egressroutes.1/workshop2022/DATA/GPCR-09-2020/IXO-CHL-lipid14-fixed-cleanBS-unwtapped-WB-EX-700-RAMD_2.dat\n",
      "/exports/scratch/git/MD-IFP/content/work/tauRAMD-egressroutes.1/workshop2022/DATA/GPCR-09-2020/IXO-CHL-lipid14-fixed-cleanBS-unwtapped-WB-EX-700-RAMD_5.pkl IXO-CHL-lipid14-fixed-cleanBS-unwtapped-WB-EX-700-\n",
      "Trajectory length will be taken from /exports/scratch/git/MD-IFP/content/work/tauRAMD-egressroutes.1/workshop2022/DATA/GPCR-09-2020/IXO-CHL-lipid14-fixed-cleanBS-unwtapped-WB-EX-700-RAMD_5.dat\n",
      "/exports/scratch/git/MD-IFP/content/work/tauRAMD-egressroutes.1/workshop2022/DATA/GPCR-09-2020/IXO-CHL-lipid14-fixed-cleanBS-unwtapped-WB-EX-700-RAMD_1.pkl IXO-CHL-lipid14-fixed-cleanBS-unwtapped-WB-EX-700-\n",
      "Trajectory length will be taken from /exports/scratch/git/MD-IFP/content/work/tauRAMD-egressroutes.1/workshop2022/DATA/GPCR-09-2020/IXO-CHL-lipid14-fixed-cleanBS-unwtapped-WB-EX-700-RAMD_1.dat\n",
      "/exports/scratch/git/MD-IFP/content/work/tauRAMD-egressroutes.1/workshop2022/DATA/GPCR-09-2020/IXO-CHL-lipid14-fixed-cleanBS-unwtapped-WB-EX-700-RAMD_6.pkl IXO-CHL-lipid14-fixed-cleanBS-unwtapped-WB-EX-700-\n",
      "Trajectory length will be taken from /exports/scratch/git/MD-IFP/content/work/tauRAMD-egressroutes.1/workshop2022/DATA/GPCR-09-2020/IXO-CHL-lipid14-fixed-cleanBS-unwtapped-WB-EX-700-RAMD_6.dat\n",
      "/exports/scratch/git/MD-IFP/content/work/tauRAMD-egressroutes.1/workshop2022/DATA/GPCR-09-2020/IXO-CHL-lipid14-fixed-cleanBS-unwtapped-WB-EX-700-RAMD_3.pkl IXO-CHL-lipid14-fixed-cleanBS-unwtapped-WB-EX-700-\n",
      "Trajectory length will be taken from /exports/scratch/git/MD-IFP/content/work/tauRAMD-egressroutes.1/workshop2022/DATA/GPCR-09-2020/IXO-CHL-lipid14-fixed-cleanBS-unwtapped-WB-EX-700-RAMD_3.dat\n",
      "Auxi_0 - skip no-IFP property\n",
      "Auxi_1 - skip no-IFP property\n",
      "COM - skip no-IFP property\n",
      "LIP - skip no-IFP property\n",
      "RGyr - skip no-IFP property\n",
      "RMSDl - skip no-IFP property\n",
      "RMSDp - skip no-IFP property\n",
      "Repl - skip no-IFP property\n",
      "Traj - skip no-IFP property\n",
      "WAT - skip no-IFP property\n",
      "length - skip no-IFP property\n",
      "ligand - skip no-IFP property\n",
      "time - skip no-IFP property\n",
      "COM_x - skip no-IFP property\n",
      "COM_y - skip no-IFP property\n",
      "COM_z - skip no-IFP property\n"
     ]
    }
   ],
   "source": [
    "#---- read IFP data set: \n",
    "df_tot_org,ligandsi,directi = read_databases(DIR_in,name_template,name_len =50)\n",
    "#print(df_tot_org.shape)  \n",
    "if df_tot_org.shape[0] == 0:\n",
    "    print(\" Files were not found !!!\")\n",
    "    sys.exit()\n",
    "    \n",
    "#---- sort residues by number\n",
    "resi_list_sorted,resi_name_list_sorted,ifp_list = separate_IFP(df_tot_org.columns.tolist())\n",
    "\n",
    "try:\n",
    "    if(np.unique(df_tot_org.Repl.values) == ''):\n",
    "        Repl = []\n",
    "        R = 0\n",
    "        start = np.argwhere(df_tot_org.time.values == 0).flatten()\n",
    "        for i in range(0,df_tot_org.shape[0]): \n",
    "            if i in start: R += 1\n",
    "            Repl.append(\"Repl_\"+str(R))\n",
    "        df_tot_org.Repl = Repl\n",
    "except:\n",
    "    pass"
   ]
  },
  {
   "cell_type": "markdown",
   "metadata": {
    "id": "3t52G-lLYOjg"
   },
   "source": [
    "**2.3 Check ligand RMSD and dissociation through the membrane**\n",
    "\n",
    "\n",
    "1.   With the following cell, the protein and ligand RMSD at the beginning and at the end of the simulation are checked in order to discard trajectories where the ligand RMSD is too small at the end of the simulation or the protein RMSD is too large.\n",
    "2.   Then the interactions with lipids are verified in order to compute the number of dissociation trajectories going through the membrane. The egress routes through the membrane are defined as follows:\n",
    "   - first frame  where less than 2 non-specific ligand-protein contacts are found.\n",
    "   - if the ligand has contacts with more than 3 lipids in the first frame as the ligand leaves the protein.\n",
    "\n",
    "\n",
    "\n",
    "\n",
    "\n",
    "\n",
    "This is done iteratively for all the RAMD trajectories of each replica."
   ]
  },
  {
   "cell_type": "code",
   "execution_count": 9,
   "metadata": {
    "colab": {
     "base_uri": "https://localhost:8080/",
     "height": 972
    },
    "id": "srdWXrDyeWhM",
    "outputId": "1607bb88-082d-45ca-fde6-e47fa5c5954d"
   },
   "outputs": [
    {
     "name": "stdout",
     "output_type": "stream",
     "text": [
      "(14,)\n",
      "    too small ligand RMSD at the end (to be discarded):  0.7498638924488085 1.599957118528164\n",
      "    too small ligand RMSD at the end (to be discarded):  1.3546286149379907 1.1856861598791983\n",
      "    too small ligand RMSD at the end (to be discarded):  1.8046694379524892 1.654980246460306\n",
      "    too small ligand RMSD at the end (to be discarded):  1.688586569433422 1.5481773344113368\n",
      "    too large protein RMSD (to be discarded):  18.111272996288413\n",
      "    too large protein RMSD (to be discarded):  18.45889359797654\n",
      "    too small ligand RMSD at the end (to be discarded):  1.7700873709081224 1.8804283875506236\n",
      "    too large protein RMSD (to be discarded):  16.085509563076634\n",
      "0  LIPID interaction:  Repl_39 3  Lip sum: 13 Wat sum:  185 Lip max contacts:  6.0\n",
      "    too small ligand RMSD at the end (to be discarded):  1.735497230174002 1.7859223804335091\n",
      "    too small ligand RMSD at the end (to be discarded):  1.3042732779448318 1.6852951992818281\n",
      "    too small ligand RMSD at the end (to be discarded):  1.3466740864968292 1.4249915358608247\n",
      "    too small ligand RMSD at the end (to be discarded):  1.2383288962681473 1.3757881746206146\n",
      "    too large protein RMSD (to be discarded):  36.90150023583909\n",
      "    too small ligand RMSD at the end (to be discarded):  1.3271089881711713 2.2631691751666634\n",
      "    too small ligand RMSD at the end (to be discarded):  0.8282399735337207 0.7285606287300517\n"
     ]
    },
    {
     "data": {
      "image/png": "[encoded data removed]",
      "text/plain": [
       "<Figure size 432x288 with 1 Axes>"
      ]
     },
     "metadata": {
      "needs_background": "light"
     },
     "output_type": "display_data"
    },
    {
     "name": "stdout",
     "output_type": "stream",
     "text": [
      "Traj to be discarded:  15 from  70\n",
      " trajectories now: 55\n"
     ]
    },
    {
     "data": {
      "image/png": "[encoded data removed]",
      "text/plain": [
       "<Figure size 432x288 with 1 Axes>"
      ]
     },
     "metadata": {
      "needs_background": "light"
     },
     "output_type": "display_data"
    },
    {
     "name": "stdout",
     "output_type": "stream",
     "text": [
      "================ Summary=====================\n",
      "rough estimation of tau =  701.0 0.0 40701 70\n",
      "Egress into membrane (number of traj):  1 ( 1.4 %)\n"
     ]
    },
    {
     "data": {
      "text/plain": [
       "(414, 45)"
      ]
     },
     "execution_count": 9,
     "metadata": {},
     "output_type": "execute_result"
    }
   ],
   "source": [
    "print(np.unique(df_tot_org.Traj.values.astype(int)).shape)\n",
    "threshold_start_RMSD = 15\n",
    "threshold_end_RMSD = 15\n",
    "threshold_protein_RMSD = 10\n",
    "lipid_interaction = 15\n",
    "\n",
    "trj_to_discard = []\n",
    "start_RMSD = []\n",
    "end_RMSD = []\n",
    "times = []\n",
    "#tot_traj1 = 0\n",
    "tot_traj = 0\n",
    "k = 0\n",
    "\n",
    "LIP_list = [r for r in df_tot_org.columns.values \n",
    "            if (r[:5] in ['RE_CH','RE_OL','RE_PA','RE_PE','RE_PC']) or  r.find('RE_PH-') >=0]\n",
    "RE_list = [r for r in df_tot_org.columns.values \n",
    "            if ( not (r in LIP_list)  and r.find('RE_') >=0 )]\n",
    "CHL_list = [r for r in df_tot_org.columns.values \n",
    "            if (r[:5] in ['RE_CH'])]\n",
    "\n",
    "# loop over replicas\n",
    "Lip_egress = 0\n",
    "for j in np.unique(df_tot_org.Repl.values):\n",
    "    df_tot_Repl = df_tot_org[df_tot_org.Repl == j]\n",
    "    # loop over trajectories\n",
    "    for i in np.unique(df_tot_Repl.Traj.values.astype(int)):\n",
    "        tot_traj +=1\n",
    "        df_tot_Repl_Traj = df_tot_Repl[df_tot_Repl.Traj == str(i)]\n",
    "        start_RMSD.append(df_tot_Repl_Traj.RMSDl.values[0])\n",
    "        end_RMSD.append(df_tot_Repl_Traj.RMSDl.values[-1])\n",
    "        try:\n",
    "            times.append(np.unique(df_tot_Repl_Traj.length.values)[0])\n",
    "        except:\n",
    "            print(\"ERROR---------------------------\")\n",
    "            print(np.unique(df_tot_Repl_Traj.length.values)[0])\n",
    "        if(df_tot_Repl_Traj.RMSDl.values[0] > threshold_start_RMSD) :\n",
    "            print(\"    too large ligand RMSD in the first frame : \",df_tot_Repl_Traj.RMSDl.values[0],df_tot_Repl_Traj.RMSDl.values[-1])\n",
    "        elif (df_tot_Repl_Traj.RMSDl.values[-1] < threshold_end_RMSD) :  \n",
    "            trj_to_discard.append((j,i))\n",
    "            print(\"    too small ligand RMSD at the end (to be discarded): \",df_tot_Repl_Traj.RMSDl.values[0],df_tot_Repl_Traj.RMSDl.values[-1])\n",
    "            continue\n",
    "        elif (df_tot_Repl_Traj.RMSDp.max() > threshold_protein_RMSD) :  \n",
    "            trj_to_discard.append((j,i))\n",
    "            print(\"    too large protein RMSD (to be discarded): \",df_tot_Repl_Traj.RMSDp.max())\n",
    "            #continue\n",
    "        elif \"LIP\" in  df_tot_Repl_Traj.columns.values:\n",
    "            # select  frames where less than 2 non-scpecific ligand-protein contact found\n",
    "            df_tot_diss = df_tot_Repl_Traj[df_tot_Repl_Traj[RE_list].sum(axis=1) < 1 ] \n",
    "            #  select frames  where lipids  contact with the ligand\n",
    "            LIP_contacts = df_tot_diss[LIP_list].sum(axis=1).values \n",
    "            # only if ligand has contacts with more than 3 lipid in the first frame as ligand left the protein\n",
    "            if len(LIP_contacts) > 0:\n",
    "                if LIP_contacts[0] > 3 and len(LIP_contacts[LIP_contacts > 0]) > 1: \n",
    "                    print(k,\" LIPID interaction: \",j,i,\" Lip sum:\",df_tot_diss.LIP.values[-20:].sum(),\n",
    "                      \"Wat sum: \",df_tot_diss.WAT.values[-20:].sum(),\"Lip max contacts: \",np.max(LIP_contacts))\n",
    "                    Lip_egress += 1\n",
    "                    if noLIP: \n",
    "                        trj_to_discard.append((j,i))\n",
    "                        k += 1\n",
    "                        continue\n",
    "        plt.plot(df_tot_Repl_Traj.RMSDl,marker='o', linestyle=\"\",markersize=1)\n",
    "\n",
    "plt.ylabel(\"ligand RMSD, Angstr.\",fontsize=10)\n",
    "plt.xlabel(\"trajectory frame\",fontsize=10)\n",
    "plt.title(\"Ligand RMSD in all trajectories included in the analysis\")\n",
    "plt.show()\n",
    "print(\"Traj to be discarded: \", len(trj_to_discard), \"from \",tot_traj)\n",
    "#print(\"Original data size: \",df_tot_org.shape)\n",
    "for j,i in trj_to_discard:\n",
    "#    print(\"To discard:\",i,j)\n",
    "    df_tot_org = df_tot_org[~((df_tot_org.Traj == str(i)) & (df_tot_org.Repl == j))]\n",
    "#print(\"Final data size: \",df_tot_org.shape)\n",
    "print(\" trajectories now:\",df_tot_org[df_tot_org.time == 0].shape[0])\n",
    "\n",
    "plt.hist(start_RMSD,bins=50, label= \"first frame\")\n",
    "plt.hist(end_RMSD,bins=50, label= \"final frame\")\n",
    "plt.xlabel(\"ligand RMSD, Angstr.\",fontsize=10)\n",
    "plt.legend(fontsize = 10)\n",
    "plt.title(\"Distribution of ligand RMSD in the first and in the last frame\")\n",
    "plt.show()\n",
    "\n",
    "bt2 = bootstrapp(times, rounds=50000)\n",
    "mu, std = norm.fit(bt2)\n",
    "print(\"================ Summary=====================\")\n",
    "print(\"rough estimation of tau = \",mu,std,max(times),len(times))\n",
    "print(\"Egress into membrane (number of traj): \",  Lip_egress,\"(\",np.round(100*Lip_egress/tot_traj,1),\"%)\")\n",
    "df_tot_org[LIP_list].loc[(df_tot_org[LIP_list]!=0).any(1)].shape"
   ]
  },
  {
   "cell_type": "markdown",
   "metadata": {
    "id": "kwttJR3cY6LP"
   },
   "source": [
    "# **3. Finding dissociation pathways and metastable states using kmeans clustering**\n",
    "\n",
    "**3.1 Change residue numbering and extract a list of columns that corresponds to IFP only or any contacts(IFP_RE)**\n",
    "\n",
    "The next cell is needed to renumber the residues according to the crystal structure numbering to ease the analysis and interpretation. As a result, a new list with the renumbered IFPs will be produced."
   ]
  },
  {
   "cell_type": "code",
   "execution_count": 10,
   "metadata": {
    "id": "d7zhpgjtexAy"
   },
   "outputs": [],
   "source": [
    "# --- Select IFP only-\n",
    "ifp_all_list = IFP_all\n",
    "\n",
    "ifp_list = IFP_RE  # will do clustering on unspecific contacts \n",
    "\n",
    "# we will re-number residues to X-ray numbering a for convenience and select only contacts from the ifp_list\n",
    "shift = 0\n",
    "columns_IFP = []\n",
    "columns_IFP_all = []\n",
    "columns_IFP_renamed = {}\n",
    "for c in df_tot_org.columns.values:\n",
    "    if c in LIP_list: continue  # we will not use ligand-lipid contacts for clustering\n",
    "    if c[0:2] in IFP_mixed :   \n",
    "        if M2:\n",
    "            if int(c[6:]) < 215: shift = 18\n",
    "            else:     shift= 164 \n",
    "        elif AR:\n",
    "            if int(c[6:]) < 200: shift = 31\n",
    "            elif int(c[6:]) < 360: shift = 800\n",
    "            else: shift = -97\n",
    "        if c[0:2] in ifp_list: \n",
    "            columns_IFP.append(c[:6]+str(int(c[6:])+shift))\n",
    "        if c[0:2] in ifp_all_list: \n",
    "            columns_IFP_all.append(c[:6]+str(int(c[6:])+shift))\n",
    "        columns_IFP_renamed.update( {c : c[:6]+str(int(c[6:])+shift)} )\n",
    "df_tot = df_tot_org.rename(columns_IFP_renamed, axis='columns')"
   ]
  },
  {
   "cell_type": "markdown",
   "metadata": {
    "id": "XPByaGiVZac4"
   },
   "source": [
    "**3.2 Re-organize the  IFP dataframe df_ext and prepare IFP matrix Xt for clustering**\n",
    "\n",
    "In the next cell, a matrix `Xt` containing the IFP_RE (nonspecific contacts will be used for clustering) will be generated. "
   ]
  },
  {
   "cell_type": "code",
   "execution_count": 11,
   "metadata": {
    "id": "PJJVQHQae0ba"
   },
   "outputs": [],
   "source": [
    "unpickled_df=df_tot        \n",
    "\n",
    "#remove rare contacts\n",
    "df_ext_tmp = unpickled_df[columns_IFP]        \n",
    "#print(\"Original \", df_ext_tmp.shape)\n",
    "columns_IFP_reduced = np.asarray(columns_IFP)[df_ext_tmp.sum(axis=0).values > 0]\n",
    "df_ext = df_ext_tmp[columns_IFP_reduced]   \n",
    "columns_IFP = columns_IFP_reduced\n",
    "#print(\"Reduced\", df_ext_tmp.shape)\n",
    "        \n",
    "X = df_ext_tmp.values\n",
    "    \n",
    "#print(X.shape)\n",
    "if \"Auxi_2\" in unpickled_df.columns: # column Auxi-2 containes RMSD of the PAM\n",
    "    add_columns = [\"Repl\",\"ligand\",\"Traj\",\"RMSDl\",\"time\",\"length\",\"WAT\",\"RGyr\",\"COM_x\",\"COM_y\",\"COM_z\",\"COM\",\"Auxi_2\" ]\n",
    "elif \"WAT\" in unpickled_df.columns: # add water analysis if it is included in the DataFrame\n",
    "    add_columns = [\"Repl\",\"ligand\",\"Traj\",\"RMSDl\",\"time\",\"length\",\"WAT\",\"RGyr\",\"COM_x\",\"COM_y\",\"COM_z\",\"COM\"]\n",
    "else:\n",
    "    add_columns = [\"Repl\",\"ligand\",\"Traj\",\"RMSDl\",\"time\",\"length\",\"RGyr\",\"COM_x\",\"COM_y\",\"COM_z\",\"COM\"]\n",
    "df_ext[add_columns] = unpickled_df[add_columns]\n",
    "\n",
    "#count = df_tot_org[columns_IFP_renamed].sum(axis=1).values\n",
    "#count = count.reshape(count.shape[0],1)\n",
    "# Xt(i,j) is a numpy matrix containing IFPs (j) for all frammes (i) that well be used fro clustering\n",
    "Xt = X #np.concatenate((X,10*count/np.amax(count)),axis =1)"
   ]
  },
  {
   "cell_type": "markdown",
   "metadata": {
    "id": "gS0kCSKxZh-J"
   },
   "source": [
    "**3.3  Clustering**\n",
    "\n",
    "With the following cell, we are going to perform the clustering of the IFP_RE matrix `Xt`. We employ k-means clustering using the `scikit-learn` package with default parameters.\n",
    "\n",
    "**Important Note:** The scikit-learn version used in this tutorial is the latest (v. [`1.0.2`](https://scikit-learn.org/stable/whats_new/v1.0.html)), and is different from the one used in [Kokh et al. 2021](https://pubs.acs.org/doi/10.1021/acs.jctc.1c00641) (v. `0.22.1`) . This leads to small changes in the visualization of the clustering. Choosing different seeds for the clustering also results in small differences in the clustering.\n",
    "\n",
    "**Also note** that different clustering methods can be used.\n",
    "\n",
    "To decide the number of clusters to generate, we employed the `Silhouette` method and selected 10 clusters, which is a compromise considering the high variation of Silhouette plots for the systems studied (as shown in Fig. S2 of [Kokh et al. 2021](https://pubs.acs.org/doi/10.1021/acs.jctc.1c00641)). \n",
    "\n"
   ]
  },
  {
   "cell_type": "code",
   "execution_count": 12,
   "metadata": {
    "id": "zX0p9VfOe7zC"
   },
   "outputs": [],
   "source": [
    "# different clustering procedures can be used\n",
    "#from kmodes.kmodes import KModes\n",
    "kmodes = False #to use kmode, one has to instal KModes package and uncomment line above\n",
    "\n",
    "GM  = False\n",
    "Optics = False\n",
    "Frame_clusters = 10\n",
    "\n",
    "if GM: \n",
    "    from sklearn import mixture\n",
    "    gmm = mixture.GaussianMixture(n_components=Frame_clusters, covariance_type='full').fit(Xt)\n",
    "    labels_ = gmm.predict(Xt)\n",
    "elif kmodes:\n",
    "    km = KModes(n_clusters=Frame_clusters, init='Huang', n_init=2, verbose=0).fit_predict(Xt) \n",
    "    labels_ = km.labels_\n",
    "elif Optics:\n",
    "    from sklearn.cluster import OPTICS\n",
    "    km = OPTICS(min_samples=2).fit(Xt)\n",
    "    labels_ = km.labels_\n",
    "else:\n",
    "    km = KMeans(n_clusters=Frame_clusters, algorithm =\"full\" , random_state=0).fit(Xt)\n",
    "    labels_list = np.unique(km.labels_)\n",
    "    labels_ = km.labels_\n",
    "\n",
    "labels_rename = labels_\n",
    "\n",
    "# we will rename labels to make another  position of the cluster plot (to put clusters more distantly) \n",
    "# this is needed to exactly reproduce plots from the paper, otherwise, it is not nessesary\n",
    "if AR:\n",
    "    #\n",
    "    labels_rename = []\n",
    "    for l in labels_:\n",
    "        if l == 4: labels_rename.append(7)\n",
    "        elif l == 7:  labels_rename.append(4)\n",
    "        else: labels_rename.append(l)\n",
    "elif M2 and ( version == \"f12_\")  :\n",
    "    labels_rename = []\n",
    "    for l in labels_:\n",
    "        if ligand == \"IXO-CHL\" :\n",
    "            if l == 2: labels_rename.append(8)\n",
    "            elif l == 8:  labels_rename.append(2)\n",
    "            else: labels_rename.append(l)\n",
    "        else:\n",
    "            labels_rename = labels_\n",
    "else: labels_rename = labels_\n",
    "    \n",
    "    \n",
    "# we add cluster labels to the data frame\n",
    "df_ext[\"label\"] = labels_rename\n",
    "\n",
    "#print(df_ext.shape,Xt.shape)"
   ]
  },
  {
   "cell_type": "markdown",
   "metadata": {
    "id": "I7-mmgFOZnUI"
   },
   "source": [
    " **3.4 Find and visualize metastable states from clustering (using nonspecific contacts IFP-REs)**\n",
    "\n",
    "The following cell will dispaly the clustering plot where each cluster is shown by a node with the size indicating the cluster population. Nodes C*i* are positioned on an increasing logarithmic scale of the average ligand COM displacement in the cluster from the starting snapshot, and the node color denotes the averaged ligand RMSD in the cluster from the starting structure (initial bound position). \n",
    "\n",
    "The gray arrows indicate the total flow between two nodes [i.e., transitions (C*i* → C*j*) − (C*j* ← C*i*)] with their thickness proportional to the flux magnitude in alignment with the corresponding Flow heatmap.\n"
   ]
  },
  {
   "cell_type": "code",
   "execution_count": 13,
   "metadata": {
    "colab": {
     "base_uri": "https://localhost:8080/",
     "height": 1000
    },
    "id": "Wiem28s1e_Fa",
    "outputId": "ab00b344-8561-40bf-d05c-fa6dd69698a7"
   },
   "outputs": [
    {
     "ename": "NameError",
     "evalue": "name 'plot_graph_COM_v1' is not defined",
     "output_type": "error",
     "traceback": [
      "\u001b[0;31m---------------------------------------------------------------------------\u001b[0m",
      "\u001b[0;31mNameError\u001b[0m                                 Traceback (most recent call last)",
      "Input \u001b[0;32mIn [13]\u001b[0m, in \u001b[0;36m<cell line: 2>\u001b[0;34m()\u001b[0m\n\u001b[1;32m      1\u001b[0m out_name \u001b[38;5;241m=\u001b[39m \u001b[38;5;124m\"\u001b[39m\u001b[38;5;124mcluster-traj.png\u001b[39m\u001b[38;5;124m\"\u001b[39m\n\u001b[0;32m----> 2\u001b[0m arg_Label_list \u001b[38;5;241m=\u001b[39m \u001b[43mplot_graph_COM_v1\u001b[49m(df_ext,DIR_out\u001b[38;5;241m+\u001b[39mout_name,ligand\u001b[38;5;241m=\u001b[39m[],draw_round \u001b[38;5;241m=\u001b[39m \u001b[38;5;28;01mFalse\u001b[39;00m,water\u001b[38;5;241m=\u001b[39m\u001b[38;5;28;01mFalse\u001b[39;00m,edges_show\u001b[38;5;241m=\u001b[39m\u001b[38;5;28;01mFalse\u001b[39;00m,diss_show\u001b[38;5;241m=\u001b[39m\u001b[38;5;28;01mFalse\u001b[39;00m)\n",
      "\u001b[0;31mNameError\u001b[0m: name 'plot_graph_COM_v1' is not defined"
     ]
    }
   ],
   "source": [
    "out_name = \"cluster-traj.png\"\n",
    "arg_Label_list = plot_graph_COM_v1(df_ext,DIR_out+out_name,ligand=[],draw_round = False,water=False,edges_show=False,diss_show=False)"
   ]
  },
  {
   "cell_type": "markdown",
   "metadata": {
    "id": "DKOhsTMP1b0X"
   },
   "source": [
    "**3.5 Cluster components**"
   ]
  },
  {
   "cell_type": "markdown",
   "metadata": {
    "id": "ZVl5qSzwZ4_X"
   },
   "source": [
    "**3.5.1 Show IFP contribution to each cluster**\n",
    "\n",
    "With the following cell, PL-IFPs contribution to each cluster showing the population of specific protein-ligand interactions is computed together with the PL-RE (unspecific contacts) composition. "
   ]
  },
  {
   "cell_type": "code",
   "execution_count": 14,
   "metadata": {
    "colab": {
     "base_uri": "https://localhost:8080/",
     "height": 711
    },
    "id": "jXuPQv83n-0V",
    "outputId": "dcc6ade6-1e59-4c21-88d3-32f64622db4e"
   },
   "outputs": [
    {
     "ename": "NameError",
     "evalue": "name 'arg_Label_list' is not defined",
     "output_type": "error",
     "traceback": [
      "\u001b[0;31m---------------------------------------------------------------------------\u001b[0m",
      "\u001b[0;31mNameError\u001b[0m                                 Traceback (most recent call last)",
      "Input \u001b[0;32mIn [14]\u001b[0m, in \u001b[0;36m<cell line: 4>\u001b[0;34m()\u001b[0m\n\u001b[1;32m      1\u001b[0m \u001b[38;5;66;03m# threshold used to discard some IFPs (less populated) from the image plot \u001b[39;00m\n\u001b[1;32m      2\u001b[0m threshold \u001b[38;5;241m=\u001b[39m \u001b[38;5;241m0.05\u001b[39m\n\u001b[0;32m----> 4\u001b[0m sorted_labels \u001b[38;5;241m=\u001b[39m labels_list[\u001b[43marg_Label_list\u001b[49m]\n\u001b[1;32m      6\u001b[0m file_save \u001b[38;5;241m=\u001b[39m DIR_out\u001b[38;5;241m+\u001b[39m\u001b[38;5;124m\"\u001b[39m\u001b[38;5;124mcluster_traj-population-img.png\u001b[39m\u001b[38;5;124m\"\u001b[39m\n\u001b[1;32m      7\u001b[0m df_ext_ligand \u001b[38;5;241m=\u001b[39m df_ext[df_ext\u001b[38;5;241m.\u001b[39mligand\u001b[38;5;241m.\u001b[39misin([ligand])]\n",
      "\u001b[0;31mNameError\u001b[0m: name 'arg_Label_list' is not defined"
     ]
    }
   ],
   "source": [
    "# threshold used to discard some IFPs (less populated) from the image plot \n",
    "threshold = 0.05\n",
    "\n",
    "sorted_labels = labels_list[arg_Label_list]\n",
    "\n",
    "file_save = DIR_out+\"cluster_traj-population-img.png\"\n",
    "df_ext_ligand = df_ext[df_ext.ligand.isin([ligand])]\n",
    "\n",
    "p = []\n",
    "for c in columns_IFP: p.append(c[6:])\n",
    "indx = np.argsort(np.asarray(p).astype(float))  \n",
    "\n",
    "p_ifp = []\n",
    "for c in columns_IFP_all: p_ifp.append(c[6:])\n",
    "indx_ifp = np.argsort(np.asarray(p_ifp).astype(float))  \n",
    "\n",
    "ar = np.zeros((len(sorted_labels),indx.shape[0]), dtype = float)\n",
    "ar_ifp = np.zeros((len(sorted_labels),indx_ifp.shape[0]), dtype = float)\n",
    "for i,l in enumerate(sorted_labels):\n",
    "    ar[i] = df_ext[df_ext.label == l][columns_IFP].mean().values[indx]\n",
    "    ar_ifp[i] = unpickled_df[df_ext.label == l][columns_IFP_all].mean().values[indx_ifp]\n",
    "    \n",
    "br = np.max(ar,axis=0)\n",
    "indx_threshold = np.where(br > threshold)[0]\n",
    "col_threshold = np.asarray(columns_IFP)[indx][indx_threshold]\n",
    "\n",
    "RE_col_threshold = []\n",
    "IFP_col_threshold = []\n",
    "RE_indx_threshold = []\n",
    "IFP_indx_threshold = []\n",
    "\n",
    "for i,c in enumerate(col_threshold):\n",
    "    if c[:2] == \"RE\": \n",
    "        RE_col_threshold.append(c[3:])\n",
    "        RE_indx_threshold.append(i)\n",
    "    else: \n",
    "        IFP_col_threshold.append(c)\n",
    "        IFP_indx_threshold.append(i)\n",
    "IFP_indx_threshold = np.asarray(IFP_indx_threshold)\n",
    "IFP_col_threshold = np.asarray(IFP_col_threshold)\n",
    "RE_col_threshold = np.asarray(RE_col_threshold)\n",
    "RE_indx_threshol = np.asarray(RE_indx_threshold)\n",
    "\n",
    "\n",
    "# show IFP composition of the generated clusters\n",
    "if len(ifp_list) > 1:\n",
    "    file_save = DIR_out+\"cluster_traj-population-IFP-img.png\"\n",
    "    fig = plt.figure(figsize = (12, int(Frame_clusters/4.1)),facecolor='w',dpi=150)\n",
    "    ax = plt.subplot(1,1,1)\n",
    "    max_ar = np.amax(ar[:,indx_threshold][:,IFP_indx_threshold])\n",
    "    ec=plt.imshow(ar[:,indx_threshold][:,IFP_indx_threshold],cmap='Blues',aspect = \"auto\")\n",
    "    plt.xticks(range(0,col_threshold[IFP_indx_threshold].shape[0]),col_threshold[IFP_indx_threshold] ,rotation=90,fontsize=6)\n",
    "    plt.yticks(range(0,len(sorted_labels)),range(1,len(sorted_labels)+1),fontsize=8,rotation=90)\n",
    "    ax.set_title(\"IFP \")\n",
    "    cbar = plt.colorbar(ec)\n",
    "    cbar.set_label('population',fontsize=12)\n",
    "\n",
    "    if file_save !=\"\":plt.savefig(file_save,format='png', dpi=300, bbox_inches='tight',transparent=True)  \n",
    "    else: plt.show()\n",
    "\n",
    "# show unspecific contact contribution is they are included in clustering\n",
    "if \"RE\" in ifp_list: \n",
    "    fig_l = 10\n",
    "    if M2 : fig_l = 8\n",
    "    file_save = DIR_out+\"cluster_traj-population-RE-img.png\"\n",
    "    fig = plt.figure(figsize = (12, int(Frame_clusters/5.)),facecolor='w',dpi=150)\n",
    "    ax = plt.subplot(1,1,1)\n",
    "    ec=plt.imshow(ar[:,indx_threshold][:,RE_indx_threshold],cmap='Oranges',aspect = \"auto\")\n",
    "    plt.xticks(range(0,col_threshold[RE_indx_threshold].shape[0]),RE_col_threshold ,rotation=90,fontsize=6)\n",
    "    plt.yticks(range(0,len(sorted_labels)),range(1,len(sorted_labels)+1),rotation=90,fontsize=10)\n",
    "    ax.set_title(\"Unspecific contacts\",fontsize=12)\n",
    "    cbar = plt.colorbar(ec)\n",
    "    cbar.set_label('population',fontsize=12)\n",
    "    \n",
    "    if file_save !=\"\":plt.savefig(file_save,format='png', dpi=300, bbox_inches='tight',transparent=True)  \n",
    "    else: plt.show()\n",
    "    if len(ifp_list) == 1:\n",
    "        threshold_ifp = 0.5\n",
    "        file_save = DIR_out+\"cluster_traj-population-IFP-img.png\"\n",
    "        fig = plt.figure(figsize = (fig_l, int(Frame_clusters/5.)),facecolor='w',dpi=150)\n",
    "        ax = plt.subplot(1,1,1)\n",
    "        ec=plt.imshow(ar_ifp[:,np.sum(ar_ifp,axis=0)> threshold_ifp],cmap='Blues',aspect = \"auto\")\n",
    "        ax.set_title(\"IFPs in clusters generated based on Unspecific contacts only\",fontsize=10)\n",
    "        plt.xticks(range(0,np.array(columns_IFP_all)[np.sum(ar_ifp,axis=0)> threshold_ifp].shape[0]),np.array(columns_IFP_all)[indx_ifp][np.sum(ar_ifp,axis=0)> threshold_ifp],rotation=90,fontsize=8)\n",
    "        plt.yticks(range(0,len(sorted_labels)),range(1,len(sorted_labels)+1),rotation=90,fontsize=8)\n",
    "        cbar = plt.colorbar(ec)\n",
    "        cbar.set_label('population',fontsize=12)\n",
    "        if file_save !=\"\":plt.savefig(file_save,format='png', dpi=300, bbox_inches='tight',transparent=True)  \n",
    "        else: plt.show()"
   ]
  },
  {
   "cell_type": "markdown",
   "metadata": {
    "id": "rTrFQdKwMZ6b"
   },
   "source": [
    "**3.5.2 Save clusters on a 3D grid; use COM of just one ligand**\n",
    "\n",
    "With the following function, the metastable states associated with each cluster are shown by the COM distribution and mapped onto a 3D grid. \n",
    "\n",
    "These files will be saved in `DIR_out` accessible from the 'File' icon on the left. If uploaded in Pymol together with the reference pdb, they can be displayed using the following command line:\n",
    "\n",
    "*e.g.*, for metastable state of cluster 5:\n",
    "\n",
    " `isosurface clust5, cluster-10RE-FV-f12_5, 0.1, 4MQT-IXO-PAM`\n",
    "\n",
    " Note: The reference PDB files can be found in `pdbdir`"
   ]
  },
  {
   "cell_type": "code",
   "execution_count": null,
   "metadata": {
    "id": "FNCBAEXuMZee"
   },
   "outputs": [],
   "source": [
    "for k in np.unique(df_ext.label.values):\n",
    "    df_cl = df_ext\n",
    "    d_cluster = df_cl[df_cl.label == k]\n",
    "    if d_cluster.shape[0] > 10:\n",
    "        Map_3D_grid(d_cluster,DIR_out+\"cluster-\"+str(Frame_clusters)+\"RE-FV-\"+version+str(k)+\".dx\")"
   ]
  },
  {
   "cell_type": "markdown",
   "metadata": {
    "id": "jkffA3TWIFVS"
   },
   "source": [
    "# **3.7 Hierarchical clustering of the last P-L contacts to find the main egress routes**\n",
    "\n",
    "**3.7.1 Collection of the pre-dissociation frames for clustering**\n",
    "\n",
    "Different dissociation paths can be distinguished using hierarchical clustering of the PL-IFPs for the last protein-ligand contacts in the trajectory (pre-dissociation frame). A pre-dissociation frame is defined as the last frame where more than 3 (parameter contacts) IFP values are non-zero.\n",
    "\n",
    "With the next cell, the last frames before complete unbinding are collected for all the trajectories and IFP is assigned."
   ]
  },
  {
   "cell_type": "code",
   "execution_count": null,
   "metadata": {
    "colab": {
     "base_uri": "https://localhost:8080/",
     "height": 254
    },
    "id": "PoFB-PC8IZKb",
    "outputId": "22ac8058-8064-413f-d70e-ae52ccc709a5"
   },
   "outputs": [],
   "source": [
    "def last_frames_by_contact(df_tot,columns_IFP,contacts=3):\n",
    "    r_t_f = []\n",
    "    com_tot = []\n",
    "    diss = []\n",
    "    for r in df_tot.Repl.unique():  \n",
    "        df_repl = df_tot[df_tot.Repl == r]\n",
    "        for t in df_repl.Traj.unique():\n",
    " #           print(r,t)\n",
    "            df_traj = df_repl[df_repl.Traj == t]\n",
    "            sum_IFP = df_traj[columns_IFP].sum(1).values\n",
    "            last_frame = np.max(np.argwhere(sum_IFP > contacts))\n",
    "            r_t_f.append((r,t,last_frame))\n",
    "            \n",
    "    df = pd.DataFrame(columns = df_tot.columns)        \n",
    "    for (r,t,f) in r_t_f:  \n",
    "        df_repl = df_tot[df_tot.Repl == r]\n",
    "        df_traj = df_repl[df_repl.Traj == t]\n",
    "        df = df.append(df_traj[df_traj.time == f], ignore_index = True)\n",
    "        com_tot.append(df_traj[df_traj.time == f][[\"COM_x\",\"COM_y\",\"COM_z\"]].values)\n",
    "        diss.append(df_traj[df_traj.time == f][\"length\"].values)\n",
    "    ar = df[columns_IFP].values\n",
    "    return(ar,r_t_f,df,np.asarray(com_tot),np.asarray(diss))\n",
    "     \n",
    "ifp_list = [\"AR\",\"HD\",\"HA\",\"HY\",\"WB\",\"IP\",\"IN\"]\n",
    "#ifp_list = [\"RE\"]\n",
    "columns_IFP = []  # standard IFP\n",
    "for c in df_tot.columns.tolist():\n",
    "    if c[0:2] in ifp_list: columns_IFP.append(c)\n",
    "\n",
    "#--------------- cluster by the last frame IFP\n",
    "ar,r_t_f,df,com,time = last_frames_by_contact(df_tot,columns_IFP,4)\n",
    "ar_nonzero = ar[:,(np.array(ar).sum(0) > 0)]  # remove empty columns\n",
    "columns_IFP_nonzero = np.asarray(columns_IFP)[np.argwhere((np.array(ar).sum(0)>0)).flatten()]\n",
    "#print(ar.shape,ar_nonzero.shape,ar_nonzero.sum(0),columns_IFP_nonzero)\n",
    "\n",
    "\n",
    "fig = plt.figure(figsize = (16,2),facecolor='w')\n",
    "plt.imshow(ar_nonzero.astype(float),cmap='Blues',aspect = \"auto\")\n",
    "plt.xticks(range(0,len(columns_IFP_nonzero)),columns_IFP_nonzero,rotation=90,fontsize=12)\n",
    "plt.title(\"the last frame in each trajectory where protein-ligand contacts are observed\")\n",
    "plt.plot()"
   ]
  },
  {
   "cell_type": "markdown",
   "metadata": {
    "id": "UeBeo9vyIioy"
   },
   "source": [
    "**3.7.2 Clustering of egress routes**\n",
    "\n",
    "Here hierarchical clustering is perfomed to identify the main egress routes. For each of them, residence times (ns) and populations (number of trajectories) are given."
   ]
  },
  {
   "cell_type": "code",
   "execution_count": null,
   "metadata": {
    "colab": {
     "base_uri": "https://localhost:8080/",
     "height": 927
    },
    "id": "vUJhK4HPIhSr",
    "outputId": "2986f044-f265-44d0-c013-1c7380395c5a"
   },
   "outputs": [],
   "source": [
    "from scipy.cluster import hierarchy\n",
    "#######################\n",
    "# estimation of the residence time for each cluster \n",
    "#\n",
    "####################\n",
    "def bootstrapp(t):\n",
    "    max_shuffle = 500\n",
    "    alpha = 0.9\n",
    "    sub_set = int(alpha*len(t))        \n",
    "    tau_bootstr = []\n",
    "    if sub_set > 3: #( if the sub_set size is above 3, otherwise bootstrapping does not make sense)\n",
    "        for i in range(1,max_shuffle):\n",
    "            numpy.random.shuffle(t)\n",
    "            t_b = t[:sub_set]\n",
    "            t_b_sorted_50 = (np.sort(t_b)[int(len(t_b)/2.0-0.5)]+np.sort(t_b)[int(len(t_b)/2)])/2.0\n",
    "            tau_bootstr.append(t_b_sorted_50)\n",
    "    return(tau_bootstr)\n",
    "\n",
    "\n",
    "X = ar_nonzero.astype(float)\n",
    "\n",
    "Z= linkage(X, method = 'average', metric='correlation', optimal_ordering=True)\n",
    "threshold =1.02\n",
    "\n",
    "plt.figure(figsize=(20,3))\n",
    "plt.axhline(y=threshold, c='grey', lw=1, linestyle='dashed')\n",
    "hierarchy.set_link_color_palette(['r', 'b', 'orange', 'y', 'green', 'm','gray'])\n",
    "den = dendrogram(Z, 0.25, color_threshold=threshold, above_threshold_color='k', leaf_font_size=9)\n",
    "\n",
    "plt.savefig(DIR_out+\"dendagram-ifp.png\",dpi=300)    \n",
    " \n",
    "clusters = clust.fcluster(Z,threshold, criterion='distance')\n",
    "\n",
    "cl, count = np.unique(clusters,return_counts=True )\n",
    "t_cluster = []\n",
    "t_std_cluster = []\n",
    "ifps_cluster = []\n",
    "count_cluster = []\n",
    "cl_cluster = []\n",
    "\n",
    "# estimate residence time and population for each cluster \n",
    "for k,c in zip(cl,count):\n",
    "    ind = np.argwhere(clusters==k).flatten() # trajectories in the cluster k\n",
    "    ifps_mean = np.mean(X[ind,:],axis=0)\n",
    "    print(k,c, columns_IFP_nonzero[np.argwhere(ifps_mean > 0)].flatten())\n",
    "    if c > 1:\n",
    "        print(k,\"...............\",c,time[ind].flatten())\n",
    "        tb = np.asarray(bootstrapp(time[ind].flatten()))\n",
    "        if (len(tb) > 0):\n",
    "            t_cluster.append(np.mean(tb))\n",
    "            t_std_cluster.append(np.std(tb))\n",
    "        else:\n",
    "            t_cluster.append(0)\n",
    "            t_std_cluster.append(0)\n",
    "        cl_cluster.append(k)\n",
    "        count_cluster.append(c)\n",
    "        ifps_cluster.append(np.sum(ar_nonzero.astype(float)[ind,:],axis=0))\n",
    "        if(t_cluster[-1] > 0): print(\"Residence time:\",k,c,t_cluster[-1])\n",
    "\n",
    "# order clusters by the decrease of the  residence time           \n",
    "count_cluster = np.array(count_cluster)\n",
    "cl_cluster = np.array(cl_cluster)\n",
    "t_cluster = np.array(t_cluster)\n",
    "t_std_cluster = np.array(t_std_cluster)\n",
    "index_tau = np.argsort(t_cluster)\n",
    "\n",
    "#select IFP to show\n",
    "index = []\n",
    "for a in columns_IFP_nonzero:\n",
    "    index.append(int(a[6:]))\n",
    "index = np.argsort(index)\n",
    "ifp_subset_large = (np.max(np.asarray(ifps_cluster)[index_tau][:,index],axis=0) > 2)\n",
    "\n",
    "index = index[ifp_subset_large]\n",
    "fig = plt.figure(figsize = (20,3),facecolor='w') \n",
    "gs = gridspec.GridSpec(1,3, width_ratios=[6, 1,1],wspace=0.08) \n",
    "\n",
    "\n",
    "ax = plt.subplot(gs[0])\n",
    "ax.imshow(np.asarray(ifps_cluster)[np.flip(index_tau)][:,index],cmap='Blues',aspect = \"auto\",vmin=0, vmax=10)\n",
    "plt.yticks(range(0,cl_cluster[np.flip(index_tau)].shape[0]),cl_cluster[np.flip(index_tau)],fontsize=10)\n",
    "plt.xticks(range(0,len(columns_IFP_nonzero[index])),columns_IFP_nonzero[index],rotation=45,fontsize=8)\n",
    "#---------- plot residence times in clusters\n",
    "ax = plt.subplot(gs[1])\n",
    "ax.errorbar(y=range(0,len(t_cluster[index_tau])),x=t_cluster[index_tau],xerr=t_std_cluster[index_tau],color = 'k', marker='o',lw=1)\n",
    "plt.yticks(range(0,len(cl_cluster[index_tau])),cl_cluster[index_tau],fontsize=14)\n",
    "#plt.xlim((0.2,1.2*max(t_cluster)))\n",
    "plt.xticks(fontsize=14)\n",
    "plt.title(\"residence time\",fontsize=14)\n",
    "print(\"res.times \",t_cluster)\n",
    "#plt.ylim((1,len(t_cluster)+1))\n",
    "#--------------- plot cluster population\n",
    "ax = plt.subplot(gs[2])\n",
    "ax.scatter(y=range(0,len(t_cluster[index_tau])),x=count_cluster[index_tau],color = 'k')\n",
    "#plt.yticks(range(0,np.max(cl_cluster)),np.flip(cl_cluster),fontsize=14)\n",
    "plt.yticks(range(0,len(cl_cluster[index_tau])),cl_cluster[index_tau],fontsize=14)\n",
    "plt.xticks(fontsize=14)\n",
    "plt.xlim((0,1.2*np.max(count_cluster)))\n",
    "plt.title(\"population\",fontsize=14)\n",
    "#plt.ylim((1,np.max(cl)))\n",
    "plt.savefig(DIR_out+\"clusters-ifp.png\",dpi=300,bbox_inches = 'tight')    \n",
    "\n",
    "print(\"Res.times:\", t_cluster,\"re-ordered:\",t_cluster[index_tau])\n",
    "print(\"Population:\", count_cluster,\"re-ordered:\",count_cluster[index_tau])\n",
    "cl, count"
   ]
  },
  {
   "cell_type": "markdown",
   "metadata": {
    "id": "XNZFCgqQ59tf"
   },
   "source": [
    "**3.7.3 Visualization of engress routes on 3D grid**\n",
    "\n",
    "With the following cell, a ligand COM distribution for each cluster is generated by summing over all the snapshots assigned to the cluster.\n",
    "\n",
    "These files will be saved in `DIR_out` accessible from the 'File' icon on the left. If uploaded in Pymol together with the reference pdb, they can be displayed using the following command line:\n",
    "\n",
    "*e.g.*, for egress route 1:\n",
    "\n",
    " `isosurface egress1, densityFV1--10-f12_1, 1, 4MQT-IXO-PAM,`\n",
    "\n",
    " Note: The reference PDB files can be found in `pdbdir`\n"
   ]
  },
  {
   "cell_type": "code",
   "execution_count": null,
   "metadata": {
    "colab": {
     "base_uri": "https://localhost:8080/"
    },
    "id": "p4Z-qj_DNemb",
    "outputId": "9d71c39f-2f91-44ed-928e-ec069dff83d0"
   },
   "outputs": [],
   "source": [
    "print(\"Cluster numbers:\",cl)\n",
    "print(\"Cluster populations:\",count)\n",
    "for k in cl[count>1]:\n",
    "    print(\"save cluster \",k)\n",
    "    ind = np.argwhere(clusters==k).flatten() # trajectories in the cluster k\n",
    "    channel = np.asarray(r_t_f)[ind]\n",
    "    for i,ch in enumerate(channel):\n",
    "        d = df_tot[(df_tot.Repl == ch[0]) & (df_tot.Traj == ch[1])] # & (df_tot.time == int(ch[2]))]\n",
    "        if i == 0: d_channel = d\n",
    "        else: d_channel = pd.concat([d_channel,d])\n",
    "    if(i > 1):\n",
    "        #print(channel)\n",
    "        Map_3D_grid( d_channel,DIR_out+\"densityFV1-\"+\"-\"+str(int(threshold*10))+\"-\"+version+str(k)+\".dx\")"
   ]
  }
 ],
 "metadata": {
  "colab": {
   "collapsed_sections": [],
   "name": "2nd_tutorial_tauRAMD-dissociationmechanism.ipynb",
   "provenance": []
  },
  "kernelspec": {
   "display_name": "Python 3 (ipykernel)",
   "language": "python",
   "name": "python3"
  },
  "language_info": {
   "codemirror_mode": {
    "name": "ipython",
    "version": 3
   },
   "file_extension": ".py",
   "mimetype": "text/x-python",
   "name": "python",
   "nbconvert_exporter": "python",
   "pygments_lexer": "ipython3",
   "version": "3.8.13"
  }
 },
 "nbformat": 4,
 "nbformat_minor": 1
}
